{
  "nbformat": 4,
  "nbformat_minor": 0,
  "metadata": {
    "colab": {
      "provenance": [],
      "include_colab_link": true
    },
    "kernelspec": {
      "name": "python3",
      "display_name": "Python 3"
    },
    "language_info": {
      "name": "python"
    },
    "accelerator": "GPU",
    "gpuClass": "standard"
  },
  "cells": [
    {
      "cell_type": "markdown",
      "metadata": {
        "id": "view-in-github",
        "colab_type": "text"
      },
      "source": [
        "<a href=\"https://colab.research.google.com/github/HJKQWE/Project_DL_Fashion_MNIST/blob/main/Project_DL_Fashion_MNIST_%D0%93%D1%83%D1%80%D0%BE%D0%B2%D0%B0_%D0%AE%D0%BB%D0%B8%D1%8F.ipynb\" target=\"_parent\"><img src=\"https://colab.research.google.com/assets/colab-badge.svg\" alt=\"Open In Colab\"/></a>"
      ]
    },
    {
      "cell_type": "markdown",
      "source": [
        "# FashionMNIST"
      ],
      "metadata": {
        "id": "t5yAXr0WZK1L"
      }
    },
    {
      "cell_type": "markdown",
      "source": [
        "<img src=\"https://emiliendupont.github.io/imgs/mnist-chicken/mnist-and-fashion-examples.png\">"
      ],
      "metadata": {
        "id": "9zBDaFd-af3L"
      }
    },
    {
      "cell_type": "markdown",
      "source": [
        "Мы будем работать с картинками одежды (чёрно-белыми, 28 на 28). По входной картинке нужно предсказать тип одежды на 10 классов."
      ],
      "metadata": {
        "id": "EQUWMfZRahIO"
      }
    },
    {
      "cell_type": "code",
      "source": [
        "from google.colab import drive\n",
        "drive.mount('/content/drive')"
      ],
      "metadata": {
        "colab": {
          "base_uri": "https://localhost:8080/"
        },
        "id": "Pv3hEgXoylJ_",
        "outputId": "2f13d952-8532-413f-ca7a-0488602bf34d"
      },
      "execution_count": null,
      "outputs": [
        {
          "output_type": "stream",
          "name": "stdout",
          "text": [
            "Mounted at /content/drive\n"
          ]
        }
      ]
    },
    {
      "cell_type": "code",
      "execution_count": null,
      "metadata": {
        "id": "czUjp5h-SDfg"
      },
      "outputs": [],
      "source": [
        "# установим последнюю версию wandb\n",
        "!pip install -q --upgrade wandb"
      ]
    },
    {
      "cell_type": "code",
      "source": [
        "# Log in to your W&B account\n",
        "import wandb\n",
        "wandb.login()"
      ],
      "metadata": {
        "colab": {
          "base_uri": "https://localhost:8080/"
        },
        "id": "7aJ05WTTNNCt",
        "outputId": "2a304395-9d2e-4f73-8355-1ea67569f79e"
      },
      "execution_count": null,
      "outputs": [
        {
          "output_type": "stream",
          "name": "stderr",
          "text": [
            "\u001b[34m\u001b[1mwandb\u001b[0m: Currently logged in as: \u001b[33mgret-ell\u001b[0m (\u001b[33mready_go\u001b[0m). Use \u001b[1m`wandb login --relogin`\u001b[0m to force relogin\n"
          ]
        },
        {
          "output_type": "execute_result",
          "data": {
            "text/plain": [
              "True"
            ]
          },
          "metadata": {},
          "execution_count": 6
        }
      ]
    },
    {
      "cell_type": "code",
      "source": [
        "import os\n",
        "import wandb # для логирования\n",
        "\n",
        "import numpy as np\n",
        "import random\n",
        "from tqdm import *\n",
        "\n",
        "import torch\n",
        "import torch.nn as nn\n",
        "import torch.nn.functional as F\n",
        "import torch.optim as optim # для оптимизаторов\n",
        "from torchvision import datasets # для данных\n",
        "import torchvision.transforms as transforms # для преобразований тензоров\n",
        "\n",
        "import matplotlib.pyplot as plt\n",
        "import torchvision\n",
        "from torch.autograd import Variable"
      ],
      "metadata": {
        "id": "fWtwdJBETKgd"
      },
      "execution_count": null,
      "outputs": []
    },
    {
      "cell_type": "markdown",
      "source": [
        "# Фиксация случайного начального числа.\n",
        "Почему важна правильная настройка случайного начального числа в экспериментах ML?\n",
        "\n",
        "На практическом уровне будет трудно воспроизвести одни и те же результаты во всех прогонах модели — даже когда запускается один и тот же сценарий для одних и тех же обучающих данных. Это также может привести к проблемам при выяснении, связано ли изменение производительности с фактической моделью или модификацией данных или просто результатом новой случайной выборки.\n",
        "\n",
        "Для решения этих источников вариаций важной отправной точкой является полная видимость данных, кода и параметров модели, а также деталей среды, которые привели к конкретному результату. Этот уровень воспроизводимости уменьшит неожиданные отклонения прогонах и поможет отлаживать эксперименты по машинному обучению.\n",
        "\n",
        "“Начальное число” является отправной точкой для последовательности, и гарантия заключается в том, что если начать с того же начального числа, вы получите ту же последовательность чисел. Тщательно задавая случайное начальное число в вашем конвейере, можно добиться воспроизводимости.\n",
        "\n",
        "Для этого:\n",
        "1. Установим начальное значение\n",
        "```\n",
        "seed_value= 2022 # Например\n",
        "```\n",
        "\n",
        "2. Установим переменную среды `PYTHONHASHSEED` с фиксированным значением\n",
        "```\n",
        "import os\n",
        "os.environ['PYTHONHASHSEED']=str (seed_value)\n",
        "```\n",
        "\n",
        "3. Установим псевдослучайный генератор `numpy` с фиксированным значением\n",
        "```\n",
        "import numpy как np\n",
        "np.random.seed(seed_value)\n",
        "```\n",
        "\n",
        "4. Фиксируем генератор случайных чисел pytorch\n",
        "```\n",
        "torch.manual_seed(seed)\n",
        "```\n",
        "\n",
        "5. Фиксируем генератор случайных чисел для GPU\n",
        "\n",
        "```\n",
        "torch.cuda.manual_seed(seed)\n",
        "```\n",
        "\n",
        "\n",
        "[**PYTHONHASHSEED**](https://docs.python.org/3/using/cmdline.html#envvar-PYTHONHASHSEED)\n",
        "\n",
        "Если эта переменная не задана или установлена на random, случайное значение используется для заполнения хэшей объектов str и bytes.\n",
        "\n",
        "Если PYTHONHASHSEED задано целочисленное значение, оно используется как фиксированное начальное значение для генерации хэша() типов, охватываемых рандомизацией хэша.\n",
        "\n",
        "Его цель - разрешить повторяемое хеширование, например, для самотестирования самого интерпретатора, или разрешить кластеру процессов python совместно использовать хэш-значения.\n",
        "\n",
        "Целое число должно быть десятичным числом в диапазоне [0,4294967295]. Указание значения 0 отключит рандомизацию хэша.\n",
        "\n",
        "\n"
      ],
      "metadata": {
        "id": "5YXF2v62AqIW"
      }
    },
    {
      "cell_type": "code",
      "source": [
        "# Зафиксируем seed для воспроизводимости\n",
        "\n",
        "def seed_everything(seed):\n",
        "    random.seed(seed) # фиксируем генератор случайных чисел\n",
        "    os.environ['PYTHONHASHSEED'] = str(seed) # фиксируем заполнения хешей. PYTHONHASHSEED переменная среды с фиксированным значением\n",
        "    np.random.seed(seed) # фиксируем генератор случайных чисел numpy\n",
        "    torch.manual_seed(seed) # фиксируем генератор случайных чисел pytorch\n",
        "    torch.cuda.manual_seed(seed) # фиксируем генератор случайных чисел для GPU"
      ],
      "metadata": {
        "id": "act8OGimTclJ"
      },
      "execution_count": null,
      "outputs": []
    },
    {
      "cell_type": "markdown",
      "source": [
        "Выпишем все классы для последующего использования. \n",
        "\n",
        "Инструменты Weights & Biases позволяют легко и быстро отслеживать эксперименты, визуализировать результаты, выявлять регрессии и многое другое. Проще говоря, веса и смещения позволяют быстрее создавать более качественные модели и легко делиться результатами с коллегами.\n",
        "\n",
        "Для проверки и настройки сервиса Weights & Biases, мной проведена регистрация в сервисе.\n",
        "\n",
        "api - представлен на стартовой странице, после завершения регистрации.\n",
        "\n",
        "project - создан академический проект с возможностью работать в группе.\n",
        "\n",
        "entity - логин входа в сервис.\n",
        "\n",
        "wandb = True или False, зависит от того хотим ли использовать сервис или нет.\n",
        "\n",
        "**Примечание:**\n",
        "num_workers прилось поставить равное 2, так как выходило предупреждение.\n",
        "\n",
        " \"/usr/local/lib/python3.8/dist-packages/torch/utils/data/dataloader.py:554: UserWarning: This DataLoader will create 4 worker processes in total. Our suggested max number of worker in current system is 2, which is smaller than what this DataLoader is going to create. Please be aware that excessive worker creation might get DataLoader running slow or even freeze, lower the worker number to avoid potential slowness/freeze if necessary.\n",
        "  warnings.warn(_create_warning_msg(\""
      ],
      "metadata": {
        "id": "4Homy1Hda0y_"
      }
    },
    {
      "cell_type": "code",
      "source": [
        "class CFG:\n",
        "\n",
        "# Задаем параметры нашего эксперимента\n",
        "\n",
        "  api = \"c46873158d9b17d359eb43bbe31308d56f8ce3d4\"# вписать свой API Wandb  \n",
        "  project = \"ready_go\"# вписать название эксперимента, который предварительно надо создать в Wandb\n",
        "  entity = \"gret-ell\"# ввести свой логин\n",
        "  wandb = True # флаг использования Wandb\n",
        "  num_epochs = 10 # количество эпох прогона обучения модели\n",
        "  train_batch_size = 64 # размер батча обучающей выборки\n",
        "  test_batch_size = 512 # размер батча тестовой выборки\n",
        "  num_workers = 2 # количество активных процессов на загрузку данных\n",
        "  lr = 0.001 # learning_rate\n",
        "  seed = 2022 # для функции воспроизводимости фиксируем случайное число\n",
        "  classes = ['T-shirt/top', 'Trouser', 'Pullover', 'Dress', 'Coat', 'Sandal', 'Shirt', 'Sneaker', 'Bag', 'Ankle boot'] # классы датасета\n",
        "  \n",
        "\n"
      ],
      "metadata": {
        "id": "X_ltN5rHTgMe"
      },
      "execution_count": null,
      "outputs": []
    },
    {
      "cell_type": "code",
      "source": [
        "# функция перевода класса конфигурации в словарь\n",
        "\n",
        "def class2dict(f):\n",
        "  return dict((name, getattr(f, name)) for name in dir(f) if not name.startswith('__'))"
      ],
      "metadata": {
        "id": "xnrD-0AQUpHi"
      },
      "execution_count": null,
      "outputs": []
    },
    {
      "cell_type": "markdown",
      "source": [
        "Обратим внимание, что датасет поменялся, а значит поменлись среднее и стандартное отклонение, их необходимо посмотреть на официальной страничке датасета [ссылка](https://boscoj2008.github.io/customCNN/)."
      ],
      "metadata": {
        "id": "JNdiWxT1a836"
      }
    },
    {
      "cell_type": "code",
      "source": [
        "# будем загружать картинки, сразу преобразуя их в тензор и нормализуя\n",
        "\n",
        "transform = transforms.Compose(\n",
        "    [transforms.ToTensor(),\n",
        "     transforms.Normalize((0.1307,), (0.3081,))])"
      ],
      "metadata": {
        "id": "i4aZMk4qYCzk"
      },
      "execution_count": null,
      "outputs": []
    },
    {
      "cell_type": "markdown",
      "source": [
        "# Загружаем данные.\n",
        "\n",
        "[CLASS:FashionMNIST](https://pytorch.org/vision/stable/generated/torchvision.datasets.FashionMNIST.html#torchvision.datasets.FashionMNIST) (\n",
        "\n",
        "**root**= 'str' - Корневой каталог набора данных, в котором датасет существует ,\n",
        "\n",
        " **train**: bool = True - Если True, создает набор данных из train-images-idx3-ubyte, в противном случае из t10k-images-idx3-ubyte, \n",
        " \n",
        " **transform**: Optional[Callable] = None - функция / преобразование, которая принимает PIL-изображение и возвращает преобразованную версию. Например, transforms.RandomCrop,\n",
        " \n",
        "  **target_transform**: Optional [Callable] = None - функция / преобразование, которая принимает цель и преобразует ее, \n",
        "  \n",
        "  **download**: bool = False - Если True, загружает набор данных из Интернета и помещает его в корневой каталог. Если набор данных уже загружен, он не загружается повторно)\n",
        "\n",
        "  [TORCH.UTILS.DATA](https://pytorch.org/docs/stable/data.html)\n",
        "\n",
        "  В основе утилиты загрузки данных PyTorch лежит torch.utils.data.DataLoader класс. Он представляет собой итерацию Python по набору данных с поддержкой.\n",
        "\n",
        "  Эти параметры настраиваются аргументами конструктора a DataLoader, который имеет обозначение:\n",
        "\n",
        "DataLoader(dataset - датасет, подлежащий загрузке, \n",
        "\n",
        "batch_size - размер пакета, который будет подаваться в нейросеть, \n",
        "\n",
        "shuffle - перемешивать или подавать последовательно пакеты, \n",
        "\n",
        "num_workers - количество активных процессоров. Чтобы избежать блокировки вычислительного кода при загрузке данных, PyTorch предоставляет простой переключатель для выполнения многопроцессорной загрузки данных, просто установив аргумент num_workers до положительного целого числа, \n",
        "\n",
        "pin_memory - Обычно не рекомендуется возвращать тензоры CUDA при многопроцессорной загрузке из-за многих тонкостей использования CUDA и совместного использования тензоров CUDA при многопроцессорной обработке (см. [CUDA в разделе многопроцессорная обработка](https://pytorch.org/docs/stable/notes/multiprocessing.html#multiprocessing-cuda-note)). Вместо этого рекомендуется использовать автоматическое закрепление памяти (т.е. настройку pin_memory=True), что обеспечивает быструю передачу данных на графические процессоры с поддержкой CUDA. Копирование с хоста на графический процессор выполняется намного быстрее, когда они создаются из закрепленной (заблокированной по страницам) памяти.)\n",
        "\n",
        "и другие, которые ожно найти в документации.\n",
        "\n",
        "Ранее мы загрузили изображения и сразу их трансформировали. Но можно сделать и вот так:\n",
        "\n",
        "\n",
        "```\n",
        "\n",
        "train_set = torchvision.datasets.FashionMNIST(\"data\", download=True, transform=\n",
        "                                                transforms.Compose([transforms.ToTensor()]))\n",
        "test_set = torchvision.datasets.FashionMNIST(\"data\", download=True, train=False, transform=\n",
        "                                               transforms.Compose([transforms.ToTensor()]))  \n",
        "                                            \n",
        "  \n",
        "```\n",
        "\n",
        "  \n",
        "   "
      ],
      "metadata": {
        "id": "-TtjNYSee01i"
      }
    },
    {
      "cell_type": "code",
      "source": [
        "train_data = datasets.FashionMNIST(root='data', train=True,\n",
        "                                   download=True, transform=transform)\n",
        "test_data = datasets.FashionMNIST(root='data', train=False,\n",
        "                                  download=True, transform=transform)\n",
        "\n",
        "train_loader = torch.utils.data.DataLoader(train_data, batch_size=CFG.train_batch_size,\n",
        "                                          shuffle=True, num_workers=CFG.num_workers, pin_memory=True)\n",
        "\n",
        "test_loader = torch.utils.data.DataLoader(test_data, batch_size=CFG.test_batch_size,\n",
        "                                         shuffle=False, num_workers=CFG.num_workers, pin_memory=True)"
      ],
      "metadata": {
        "id": "M8O3KPn-VCK4"
      },
      "execution_count": null,
      "outputs": []
    },
    {
      "cell_type": "code",
      "source": [
        "a = next(iter(train_loader))\n",
        "a[0].size()"
      ],
      "metadata": {
        "colab": {
          "base_uri": "https://localhost:8080/"
        },
        "id": "Q1rmLa41-Mgx",
        "outputId": "d57527d1-f1bc-494d-c969-4be62b561f15"
      },
      "execution_count": null,
      "outputs": [
        {
          "output_type": "execute_result",
          "data": {
            "text/plain": [
              "torch.Size([64, 1, 28, 28])"
            ]
          },
          "metadata": {},
          "execution_count": 13
        }
      ]
    },
    {
      "cell_type": "code",
      "source": [
        "len(train_data)"
      ],
      "metadata": {
        "colab": {
          "base_uri": "https://localhost:8080/"
        },
        "id": "xqD2wKdj-QBK",
        "outputId": "7c0e680e-f9af-4a43-82d6-7b9b9d2df60c"
      },
      "execution_count": null,
      "outputs": [
        {
          "output_type": "execute_result",
          "data": {
            "text/plain": [
              "60000"
            ]
          },
          "metadata": {},
          "execution_count": 14
        }
      ]
    },
    {
      "cell_type": "code",
      "source": [
        "# отрисуем несколько картинок\n",
        "\n",
        "dataiter = iter(train_loader)\n",
        "images, labels = next(dataiter)\n",
        "images = images.numpy()\n",
        "\n",
        "fig = plt.figure(figsize=(25, 4))\n",
        "for idx in np.arange(16):\n",
        "  plt.subplot(2, 8, idx+1)\n",
        "  plt.tight_layout()\n",
        "  plt.imshow(images[idx][0], cmap='gray')\n",
        "  plt.xticks([])\n",
        "  plt.yticks([])\n"
      ],
      "metadata": {
        "colab": {
          "base_uri": "https://localhost:8080/",
          "height": 262
        },
        "id": "piyI6eoTWpUu",
        "outputId": "d28a7778-d88b-4c0a-b447-56b3686690c9"
      },
      "execution_count": null,
      "outputs": [
        {
          "output_type": "display_data",
          "data": {
            "text/plain": [
              "<Figure size 1800x288 with 16 Axes>"
            ],
            "image/png": "[encoded data removed]"
          },
          "metadata": {}
        }
      ]
    },
    {
      "cell_type": "markdown",
      "source": [
        "Отображение некоторых изображений с использованием метода matplotlib imshow()."
      ],
      "metadata": {
        "id": "Wfi0CzwZAGgM"
      }
    },
    {
      "cell_type": "code",
      "source": [
        "image, label = next(iter(train_data))\n",
        "plt.imshow(image.squeeze(), cmap=\"gray\")\n",
        "print(label)"
      ],
      "metadata": {
        "colab": {
          "base_uri": "https://localhost:8080/",
          "height": 283
        },
        "id": "EtibWx-39-3X",
        "outputId": "f0aa31e3-92e4-4f79-e3f7-004e50a0c792"
      },
      "execution_count": null,
      "outputs": [
        {
          "output_type": "stream",
          "name": "stdout",
          "text": [
            "9\n"
          ]
        },
        {
          "output_type": "display_data",
          "data": {
            "text/plain": [
              "<Figure size 432x288 with 1 Axes>"
            ],
            "image/png": "[encoded data removed]"
          },
          "metadata": {
            "needs_background": "light"
          }
        }
      ]
    },
    {
      "cell_type": "code",
      "source": [
        "def output_label(label):\n",
        "    output_mapping = {\n",
        "                 0: \"T-shirt/Top\",\n",
        "                 1: \"Trouser\",\n",
        "                 2: \"Pullover\",\n",
        "                 3: \"Dress\",\n",
        "                 4: \"Coat\", \n",
        "                 5: \"Sandal\", \n",
        "                 6: \"Shirt\",\n",
        "                 7: \"Sneaker\",\n",
        "                 8: \"Bag\",\n",
        "                 9: \"Ankle Boot\"\n",
        "                 }\n",
        "    input = (label.item() if type(label) == torch.Tensor else label)\n",
        "    return output_mapping[input]"
      ],
      "metadata": {
        "id": "fbuSPTsL-p6P"
      },
      "execution_count": null,
      "outputs": []
    },
    {
      "cell_type": "code",
      "source": [
        "demo_loader = torch.utils.data.DataLoader(train_data, batch_size=10)\n",
        "\n",
        "batch = next(iter(demo_loader))\n",
        "images, labels = batch\n",
        "print(type(images), type(labels))\n",
        "print(images.shape, labels.shape)"
      ],
      "metadata": {
        "colab": {
          "base_uri": "https://localhost:8080/"
        },
        "id": "ht_mboKN_hK3",
        "outputId": "5a131039-4afc-423d-cedf-d718cd989b4f"
      },
      "execution_count": null,
      "outputs": [
        {
          "output_type": "stream",
          "name": "stdout",
          "text": [
            "<class 'torch.Tensor'> <class 'torch.Tensor'>\n",
            "torch.Size([10, 1, 28, 28]) torch.Size([10])\n"
          ]
        }
      ]
    },
    {
      "cell_type": "code",
      "source": [
        "grid = torchvision.utils.make_grid(images, nrow=10)\n",
        "\n",
        "plt.figure(figsize=(15, 20))\n",
        "plt.imshow(np.transpose(grid, (1, 2, 0)))\n",
        "print(\"labels: \", end=\" \")\n",
        "for i, label in enumerate(labels):\n",
        "    print(output_label(label), end=\", \")"
      ],
      "metadata": {
        "colab": {
          "base_uri": "https://localhost:8080/",
          "height": 175
        },
        "id": "5WYRIAm4-t-R",
        "outputId": "e92c83ad-b870-46f4-defb-8a504cdd7757"
      },
      "execution_count": null,
      "outputs": [
        {
          "output_type": "stream",
          "name": "stderr",
          "text": [
            "WARNING:matplotlib.image:Clipping input data to the valid range for imshow with RGB data ([0..1] for floats or [0..255] for integers).\n"
          ]
        },
        {
          "output_type": "stream",
          "name": "stdout",
          "text": [
            "labels:  Ankle Boot, T-shirt/Top, T-shirt/Top, Dress, T-shirt/Top, Pullover, Sneaker, Pullover, Sandal, Sandal, "
          ]
        },
        {
          "output_type": "display_data",
          "data": {
            "text/plain": [
              "<Figure size 1080x1440 with 1 Axes>"
            ],
            "image/png": "[encoded data removed]"
          },
          "metadata": {
            "needs_background": "light"
          }
        }
      ]
    },
    {
      "cell_type": "markdown",
      "source": [
        "# Создаем полносвязаннную нейронную сеть. \n",
        "\n",
        "Создаем класс модели (в нашем случае My_Net)\n",
        "\n",
        "Он наследует nn.Module, который является суперклассом для всех нейронных сетей в Pytorch.\n",
        "Наша нейронная сеть имеет следующие слои:\n",
        "\n",
        "1. Два последовательных слоя, каждый из которых состоит из следующих слоев-\n",
        "  - Слой свертки, который имеет размер kernel size 3 * 3, padding = 1 (zero_padding) в 1-м слое и padding = 0 во втором. Шаг 1 в обоих слоях.\n",
        "  - Слой Batch Normalization.\n",
        "  - Функция активации: ReLU.\n",
        "  - Max Pooling слой с размером ядра 2 * 2 и шагом 2.\n",
        "    * Выровняем (Flatten) выходные данные для получения dense layer слоя (он же полностью связанный слой).\n",
        "    * 3 Полностью \"connected layer\" слоя с различными функциями ввода-вывода.\n",
        "    * 1 \"Dropout\" слой, который имеет вероятность класса p = 0,25.\n",
        "2. Вся функциональность задана в методе forward, который определяет прямой проход CNN.\n",
        "3. Наше входное изображение меняется следующим образом:\n",
        "  - Первый слой \"Convulation layer\": входные данные: 28 * 28 * 3 , вывод: 28 * 28 * 32\n",
        "  - Первый \"Max Pooling layer\" : входные данные: 28 * 28 * 32 , вывод: 14 * 14 * 32\n",
        "  - Второй слой \"Convulation layer\" : входные данные : 14 * 14 * 32 , вывод: 12 * 12 * 64\n",
        "  - Второй \"Max Pooling layer\": 12 * 12 * 64 , вывод: 6 * 6 * 64\n",
        "4. Конечный \"fully connected layer\" слой имеет 10 выходных функций для 10 типов одежды."
      ],
      "metadata": {
        "id": "S2TOF9mHfDSD"
      }
    },
    {
      "cell_type": "code",
      "source": [
        "class My_Net(nn.Module): # наследуемся от класса nn.Module\n",
        "    def __init__(self):\n",
        "\n",
        "        super(My_Net, self).__init__() # super class constructor\n",
        "\n",
        "        self.layer1 = nn.Sequential(\n",
        "            nn.Conv2d(in_channels=1, out_channels=32, kernel_size=3, padding=1),\n",
        "            nn.BatchNorm2d(num_features=32),\n",
        "            nn.ReLU(),\n",
        "            nn.MaxPool2d(kernel_size=2, stride=2)\n",
        "        )\n",
        "        \n",
        "        self.layer2 = nn.Sequential(\n",
        "            nn.Conv2d(in_channels=32, out_channels=64, kernel_size=3),\n",
        "            nn.BatchNorm2d(num_features=64),\n",
        "            nn.ReLU(),\n",
        "            nn.MaxPool2d(2)\n",
        "        )\n",
        "        \n",
        "        self.fc1 = nn.Linear(in_features=64*6*6, out_features=600)\n",
        "        self.drop = nn.Dropout2d(0.25)\n",
        "        self.fc2 = nn.Linear(in_features=600, out_features=120)\n",
        "        self.fc3 = nn.Linear(in_features=120, out_features=10)\n",
        "        \n",
        "    def forward(self, x):\n",
        "        out = self.layer1(x)\n",
        "        out = self.layer2(out)\n",
        "        out = out.view(out.size(0), -1)\n",
        "        out = self.fc1(out)\n",
        "        out = self.drop(out)\n",
        "        out = self.fc2(out)\n",
        "        out = self.fc3(out)\n",
        "        \n",
        "        return out\n"
      ],
      "metadata": {
        "id": "CPxbrZdqWq7G"
      },
      "execution_count": null,
      "outputs": []
    },
    {
      "cell_type": "code",
      "source": [
        "model = My_Net()\n",
        "\n",
        "device = torch.device('cuda:0' if torch.cuda.is_available() else 'cpu')\n",
        "\n",
        "model = model.to(device)\n",
        "print(model) # посмотрим на нашу модель"
      ],
      "metadata": {
        "colab": {
          "base_uri": "https://localhost:8080/"
        },
        "id": "z6Xd4VKcW2DA",
        "outputId": "7e584e3c-414f-4490-9b54-7a5c7e5d734c"
      },
      "execution_count": null,
      "outputs": [
        {
          "output_type": "stream",
          "name": "stdout",
          "text": [
            "My_Net(\n",
            "  (layer1): Sequential(\n",
            "    (0): Conv2d(1, 32, kernel_size=(3, 3), stride=(1, 1), padding=(1, 1))\n",
            "    (1): BatchNorm2d(32, eps=1e-05, momentum=0.1, affine=True, track_running_stats=True)\n",
            "    (2): ReLU()\n",
            "    (3): MaxPool2d(kernel_size=2, stride=2, padding=0, dilation=1, ceil_mode=False)\n",
            "  )\n",
            "  (layer2): Sequential(\n",
            "    (0): Conv2d(32, 64, kernel_size=(3, 3), stride=(1, 1))\n",
            "    (1): BatchNorm2d(64, eps=1e-05, momentum=0.1, affine=True, track_running_stats=True)\n",
            "    (2): ReLU()\n",
            "    (3): MaxPool2d(kernel_size=2, stride=2, padding=0, dilation=1, ceil_mode=False)\n",
            "  )\n",
            "  (fc1): Linear(in_features=2304, out_features=600, bias=True)\n",
            "  (drop): Dropout2d(p=0.25, inplace=False)\n",
            "  (fc2): Linear(in_features=600, out_features=120, bias=True)\n",
            "  (fc3): Linear(in_features=120, out_features=10, bias=True)\n",
            ")\n"
          ]
        }
      ]
    },
    {
      "cell_type": "code",
      "source": [
        "# функция потерь (cross-entropy) для 10 классов\n",
        "criterion = nn.CrossEntropyLoss()\n",
        "\n",
        "# SGD (классический) со скоростью обучения (learning rate) = 0.01\n",
        "optimizer = torch.optim.SGD(params=model.parameters(),\n",
        "                           lr=0.01)"
      ],
      "metadata": {
        "id": "7atYx0-FW5-K"
      },
      "execution_count": null,
      "outputs": []
    },
    {
      "cell_type": "code",
      "source": [
        "# функция обучения модели\n",
        "def train(model, device, train_loader, optimizer, criterion, epoch, WANDB):\n",
        "    model.train() # обязательно переводим в режим обучения\n",
        "    test_loss = 0\n",
        "    correct = 0\n",
        "    \n",
        "    n_ex = len(train_loader)\n",
        "    \n",
        "    for batch_idx, (data, target) in tqdm(enumerate(train_loader), total=n_ex):\n",
        "        data, target = data.to(device), target.to(device) # переводим картинки и таргеты на GPU\n",
        "        # обнуляем градиенты!\n",
        "        optimizer.zero_grad()\n",
        "        # прямой проход\n",
        "        output = model(data)\n",
        "        pred = output.argmax(dim=1, keepdim=True)\n",
        "        correct += pred.eq(target.view_as(pred)).sum().item() # определяем корректность предсказания\n",
        "        train_loss = criterion(output, target) # считаем значение функции потерь\n",
        "        # обратный проход\n",
        "        train_loss.backward()\n",
        "        # делаем градиентный шаг оптимизатором\n",
        "        optimizer.step()\n",
        "        # считаем метрики и лосс\n",
        "    tqdm.write('\\nTrain set: Average loss: {:.4f}, Accuracy: {:.0f}%'.format(\n",
        "        train_loss, 100. * correct / len(train_loader.dataset)))\n",
        "    \n",
        "    if WANDB:\n",
        "        wandb.log({'train_loss': train_loss,\n",
        "                   'train_accuracy': correct / len(train_loader.dataset)})"
      ],
      "metadata": {
        "id": "5ow_sFgBW8bm"
      },
      "execution_count": null,
      "outputs": []
    },
    {
      "cell_type": "code",
      "source": [
        "# функция тестирования\n",
        "def test(model, device, test_loader, criterion, WANDB):\n",
        "    model.eval() # переводем модель в режим инференса\n",
        "    test_loss = 0\n",
        "    correct = 0\n",
        "    # показываем, что обученич нет и градиенты не обновляются\n",
        "    with torch.no_grad():\n",
        "        for data, target in test_loader:\n",
        "            data, target = data.to(device), target.to(device)\n",
        "            output = model(data)\n",
        "            test_loss = criterion(output, target) # считаем значение функции потерь\n",
        "            pred = output.argmax(dim=1, keepdim=True)\n",
        "            correct += pred.eq(target.view_as(pred)).sum().item()\n",
        "            # считаем метрики\n",
        "    tqdm.write('Test set: Average loss: {:.4f}, Accuracy: {:.0f}%'.format(\n",
        "        test_loss, 100. * correct / len(test_loader.dataset)))\n",
        "    \n",
        "    if WANDB:\n",
        "        wandb.log({'test_loss': test_loss,\n",
        "                   'test_accuracy': correct / len(test_loader.dataset)})"
      ],
      "metadata": {
        "id": "sxMjlNRZXAW8"
      },
      "execution_count": null,
      "outputs": []
    },
    {
      "cell_type": "code",
      "source": [
        "# основная функция для экспериментов\n",
        "def main(model):\n",
        "    # настраиваем окружение для wandb\n",
        "    if CFG.wandb:\n",
        "        os.environ[\"WANDB_API_KEY\"] = CFG.api\n",
        "        wandb.init(project=CFG.project, entity=CFG.entity, reinit=True, config=class2dict(CFG))\n",
        "  \n",
        "    use_cuda = torch.cuda.is_available() # проверяем доступность GPU \n",
        "\n",
        "    seed_everything(CFG.seed) # фиксируем сиды\n",
        "\n",
        "    device = torch.device('cuda:0' if torch.cuda.is_available() else 'cpu') # выделили устройство \n",
        "    \n",
        "    if CFG.wandb:\n",
        "        wandb.watch(model, log='all') # логируем все (метрики, лоссы, градиенты)\n",
        "\n",
        "    for epoch in range(1, CFG.num_epochs + 1): # цикл на эпохи\n",
        "        print('\\nEpoch:', epoch)\n",
        "        train(model, device, train_loader, optimizer, criterion, epoch, CFG.wandb)\n",
        "        test(model, device, test_loader, criterion, CFG.wandb)\n",
        "    print('Training is end!')"
      ],
      "metadata": {
        "id": "wOHQ0Wt9XFEh"
      },
      "execution_count": null,
      "outputs": []
    },
    {
      "cell_type": "code",
      "source": [
        "gpu_info = !nvidia-smi\n",
        "gpu_info = '\\n'.join(gpu_info)\n",
        "print(gpu_info)"
      ],
      "metadata": {
        "colab": {
          "base_uri": "https://localhost:8080/"
        },
        "id": "ddOOVyDhXJlH",
        "outputId": "b36ff03f-ff13-4ec6-cd7b-32fd9deaef0c"
      },
      "execution_count": null,
      "outputs": [
        {
          "output_type": "stream",
          "name": "stdout",
          "text": [
            "Wed Feb 22 13:13:59 2023       \n",
            "+-----------------------------------------------------------------------------+\n",
            "| NVIDIA-SMI 510.47.03    Driver Version: 510.47.03    CUDA Version: 11.6     |\n",
            "|-------------------------------+----------------------+----------------------+\n",
            "| GPU  Name        Persistence-M| Bus-Id        Disp.A | Volatile Uncorr. ECC |\n",
            "| Fan  Temp  Perf  Pwr:Usage/Cap|         Memory-Usage | GPU-Util  Compute M. |\n",
            "|                               |                      |               MIG M. |\n",
            "|===============================+======================+======================|\n",
            "|   0  Tesla T4            Off  | 00000000:00:04.0 Off |                    0 |\n",
            "| N/A   66C    P0    29W /  70W |    592MiB / 15360MiB |      0%      Default |\n",
            "|                               |                      |                  N/A |\n",
            "+-------------------------------+----------------------+----------------------+\n",
            "                                                                               \n",
            "+-----------------------------------------------------------------------------+\n",
            "| Processes:                                                                  |\n",
            "|  GPU   GI   CI        PID   Type   Process name                  GPU Memory |\n",
            "|        ID   ID                                                   Usage      |\n",
            "|=============================================================================|\n",
            "|    0   N/A  N/A    685013      C                                     589MiB |\n",
            "+-----------------------------------------------------------------------------+\n"
          ]
        }
      ]
    },
    {
      "cell_type": "markdown",
      "source": [
        "Запускаем обучение. Цель - получить на тесте значение accuracy не менее 98%."
      ],
      "metadata": {
        "id": "BWz5hylffowH"
      }
    },
    {
      "cell_type": "code",
      "source": [
        "main(model)"
      ],
      "metadata": {
        "colab": {
          "base_uri": "https://localhost:8080/",
          "height": 1000
        },
        "id": "GUnN4kneXL1E",
        "outputId": "7feb4b76-7468-447e-af69-c5ce31120c2b"
      },
      "execution_count": null,
      "outputs": [
        {
          "output_type": "display_data",
          "data": {
            "text/plain": [
              "<IPython.core.display.HTML object>"
            ],
            "text/html": [
              "Changes to your `wandb` environment variables will be ignored because your `wandb` session has already started. For more information on how to modify your settings with `wandb.init()` arguments, please refer to <a href='https://wandb.me/wandb-init' target=\"_blank\">the W&B docs</a>."
            ]
          },
          "metadata": {}
        },
        {
          "output_type": "stream",
          "name": "stderr",
          "text": [
            "\u001b[34m\u001b[1mwandb\u001b[0m: Currently logged in as: \u001b[33mgret-ell\u001b[0m. Use \u001b[1m`wandb login --relogin`\u001b[0m to force relogin\n"
          ]
        },
        {
          "output_type": "display_data",
          "data": {
            "text/plain": [
              "<IPython.core.display.HTML object>"
            ],
            "text/html": [
              "Tracking run with wandb version 0.13.10"
            ]
          },
          "metadata": {}
        },
        {
          "output_type": "display_data",
          "data": {
            "text/plain": [
              "<IPython.core.display.HTML object>"
            ],
            "text/html": [
              "Run data is saved locally in <code>/content/wandb/run-20230222_131405-859hzwt4</code>"
            ]
          },
          "metadata": {}
        },
        {
          "output_type": "display_data",
          "data": {
            "text/plain": [
              "<IPython.core.display.HTML object>"
            ],
            "text/html": [
              "Syncing run <strong><a href='https://wandb.ai/gret-ell/ready_go/runs/859hzwt4' target=\"_blank\">lilac-forest-3</a></strong> to <a href='https://wandb.ai/gret-ell/ready_go' target=\"_blank\">Weights & Biases</a> (<a href='https://wandb.me/run' target=\"_blank\">docs</a>)<br/>"
            ]
          },
          "metadata": {}
        },
        {
          "output_type": "display_data",
          "data": {
            "text/plain": [
              "<IPython.core.display.HTML object>"
            ],
            "text/html": [
              " View project at <a href='https://wandb.ai/gret-ell/ready_go' target=\"_blank\">https://wandb.ai/gret-ell/ready_go</a>"
            ]
          },
          "metadata": {}
        },
        {
          "output_type": "display_data",
          "data": {
            "text/plain": [
              "<IPython.core.display.HTML object>"
            ],
            "text/html": [
              " View run at <a href='https://wandb.ai/gret-ell/ready_go/runs/859hzwt4' target=\"_blank\">https://wandb.ai/gret-ell/ready_go/runs/859hzwt4</a>"
            ]
          },
          "metadata": {}
        },
        {
          "output_type": "stream",
          "name": "stdout",
          "text": [
            "\n",
            "Epoch: 1\n"
          ]
        },
        {
          "output_type": "stream",
          "name": "stderr",
          "text": [
            "  0%|          | 0/938 [00:00<?, ?it/s]/usr/local/lib/python3.8/dist-packages/torch/nn/functional.py:1331: UserWarning: dropout2d: Received a 2-D input to dropout2d, which is deprecated and will result in an error in a future release. To retain the behavior and silence this warning, please use dropout instead. Note that dropout2d exists to provide channel-wise dropout on inputs with 2 spatial dimensions, a channel dimension, and an optional batch dimension (i.e. 3D or 4D inputs).\n",
            "  warnings.warn(warn_msg)\n",
            "100%|██████████| 938/938 [00:15<00:00, 59.26it/s]"
          ]
        },
        {
          "output_type": "stream",
          "name": "stdout",
          "text": [
            "\n",
            "Train set: Average loss: 0.4133, Accuracy: 81%\n"
          ]
        },
        {
          "output_type": "stream",
          "name": "stderr",
          "text": [
            "\n"
          ]
        },
        {
          "output_type": "stream",
          "name": "stdout",
          "text": [
            "Test set: Average loss: 0.3646, Accuracy: 83%\n",
            "\n",
            "Epoch: 2\n"
          ]
        },
        {
          "output_type": "stream",
          "name": "stderr",
          "text": [
            "100%|██████████| 938/938 [00:14<00:00, 66.41it/s]\n"
          ]
        },
        {
          "output_type": "stream",
          "name": "stdout",
          "text": [
            "\n",
            "Train set: Average loss: 0.1538, Accuracy: 88%\n",
            "Test set: Average loss: 0.2667, Accuracy: 88%\n",
            "\n",
            "Epoch: 3\n"
          ]
        },
        {
          "output_type": "stream",
          "name": "stderr",
          "text": [
            "100%|██████████| 938/938 [00:14<00:00, 65.97it/s]"
          ]
        },
        {
          "output_type": "stream",
          "name": "stdout",
          "text": [
            "\n",
            "Train set: Average loss: 0.1655, Accuracy: 89%\n"
          ]
        },
        {
          "output_type": "stream",
          "name": "stderr",
          "text": [
            "\n"
          ]
        },
        {
          "output_type": "stream",
          "name": "stdout",
          "text": [
            "Test set: Average loss: 0.2397, Accuracy: 89%\n",
            "\n",
            "Epoch: 4\n"
          ]
        },
        {
          "output_type": "stream",
          "name": "stderr",
          "text": [
            "100%|██████████| 938/938 [00:14<00:00, 64.75it/s]"
          ]
        },
        {
          "output_type": "stream",
          "name": "stdout",
          "text": [
            "\n",
            "Train set: Average loss: 0.6791, Accuracy: 90%\n"
          ]
        },
        {
          "output_type": "stream",
          "name": "stderr",
          "text": [
            "\n"
          ]
        },
        {
          "output_type": "stream",
          "name": "stdout",
          "text": [
            "Test set: Average loss: 0.2535, Accuracy: 88%\n",
            "\n",
            "Epoch: 5\n"
          ]
        },
        {
          "output_type": "stream",
          "name": "stderr",
          "text": [
            "100%|██████████| 938/938 [00:13<00:00, 67.05it/s]"
          ]
        },
        {
          "output_type": "stream",
          "name": "stdout",
          "text": [
            "\n",
            "Train set: Average loss: 0.3952, Accuracy: 91%\n"
          ]
        },
        {
          "output_type": "stream",
          "name": "stderr",
          "text": [
            "\n"
          ]
        },
        {
          "output_type": "stream",
          "name": "stdout",
          "text": [
            "Test set: Average loss: 0.2619, Accuracy: 87%\n",
            "\n",
            "Epoch: 6\n"
          ]
        },
        {
          "output_type": "stream",
          "name": "stderr",
          "text": [
            "100%|██████████| 938/938 [00:14<00:00, 65.32it/s]"
          ]
        },
        {
          "output_type": "stream",
          "name": "stdout",
          "text": [
            "\n",
            "Train set: Average loss: 0.1378, Accuracy: 91%\n"
          ]
        },
        {
          "output_type": "stream",
          "name": "stderr",
          "text": [
            "\n"
          ]
        },
        {
          "output_type": "stream",
          "name": "stdout",
          "text": [
            "Test set: Average loss: 0.1994, Accuracy: 90%\n",
            "\n",
            "Epoch: 7\n"
          ]
        },
        {
          "output_type": "stream",
          "name": "stderr",
          "text": [
            "100%|██████████| 938/938 [00:15<00:00, 61.48it/s]\n"
          ]
        },
        {
          "output_type": "stream",
          "name": "stdout",
          "text": [
            "\n",
            "Train set: Average loss: 0.2919, Accuracy: 92%\n",
            "Test set: Average loss: 0.2874, Accuracy: 87%\n",
            "\n",
            "Epoch: 8\n"
          ]
        },
        {
          "output_type": "stream",
          "name": "stderr",
          "text": [
            "100%|██████████| 938/938 [00:14<00:00, 63.50it/s]"
          ]
        },
        {
          "output_type": "stream",
          "name": "stdout",
          "text": [
            "\n",
            "Train set: Average loss: 0.2064, Accuracy: 92%\n"
          ]
        },
        {
          "output_type": "stream",
          "name": "stderr",
          "text": [
            "\n"
          ]
        },
        {
          "output_type": "stream",
          "name": "stdout",
          "text": [
            "Test set: Average loss: 0.1983, Accuracy: 90%\n",
            "\n",
            "Epoch: 9\n"
          ]
        },
        {
          "output_type": "stream",
          "name": "stderr",
          "text": [
            "100%|██████████| 938/938 [00:13<00:00, 67.03it/s]"
          ]
        },
        {
          "output_type": "stream",
          "name": "stdout",
          "text": [
            "\n",
            "Train set: Average loss: 0.1301, Accuracy: 92%\n"
          ]
        },
        {
          "output_type": "stream",
          "name": "stderr",
          "text": [
            "\n"
          ]
        },
        {
          "output_type": "stream",
          "name": "stdout",
          "text": [
            "Test set: Average loss: 0.1792, Accuracy: 90%\n",
            "\n",
            "Epoch: 10\n"
          ]
        },
        {
          "output_type": "stream",
          "name": "stderr",
          "text": [
            "100%|██████████| 938/938 [00:13<00:00, 67.44it/s]"
          ]
        },
        {
          "output_type": "stream",
          "name": "stdout",
          "text": [
            "\n",
            "Train set: Average loss: 0.2569, Accuracy: 93%\n"
          ]
        },
        {
          "output_type": "stream",
          "name": "stderr",
          "text": [
            "\n"
          ]
        },
        {
          "output_type": "stream",
          "name": "stdout",
          "text": [
            "Test set: Average loss: 0.2100, Accuracy: 89%\n",
            "Training is end!\n"
          ]
        }
      ]
    },
    {
      "cell_type": "markdown",
      "source": [
        "![2023-02-22_16-21-19.png](data:image/png;base64,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)"
      ],
      "metadata": {
        "id": "rUlvc7fITQqU"
      }
    },
    {
      "cell_type": "markdown",
      "source": [
        "Пробуем другие оптимизаторы."
      ],
      "metadata": {
        "id": "D1Erk-nsfWxd"
      }
    },
    {
      "cell_type": "code",
      "source": [
        "optimizer = torch.optim.Adam(params=model.parameters(),\n",
        "                           lr=0.01)"
      ],
      "metadata": {
        "id": "_GL8CKOjXN7F"
      },
      "execution_count": null,
      "outputs": []
    },
    {
      "cell_type": "code",
      "source": [
        "main(model)"
      ],
      "metadata": {
        "colab": {
          "base_uri": "https://localhost:8080/",
          "height": 1000
        },
        "id": "3SHmigUwiBSj",
        "outputId": "b7f51423-0028-48a9-91af-bd40c0656ca9"
      },
      "execution_count": null,
      "outputs": [
        {
          "output_type": "display_data",
          "data": {
            "text/plain": [
              "<IPython.core.display.HTML object>"
            ],
            "text/html": [
              "Changes to your `wandb` environment variables will be ignored because your `wandb` session has already started. For more information on how to modify your settings with `wandb.init()` arguments, please refer to <a href='https://wandb.me/wandb-init' target=\"_blank\">the W&B docs</a>."
            ]
          },
          "metadata": {}
        },
        {
          "output_type": "display_data",
          "data": {
            "text/plain": [
              "<IPython.core.display.HTML object>"
            ],
            "text/html": [
              "Finishing last run (ID:859hzwt4) before initializing another..."
            ]
          },
          "metadata": {}
        },
        {
          "output_type": "display_data",
          "data": {
            "text/plain": [
              "<IPython.core.display.HTML object>"
            ],
            "text/html": [
              "Waiting for W&B process to finish... <strong style=\"color:green\">(success).</strong>"
            ]
          },
          "metadata": {}
        },
        {
          "output_type": "display_data",
          "data": {
            "text/plain": [
              "<IPython.core.display.HTML object>"
            ],
            "text/html": [
              "<style>\n",
              "    table.wandb td:nth-child(1) { padding: 0 10px; text-align: left ; width: auto;} td:nth-child(2) {text-align: left ; width: 100%}\n",
              "    .wandb-row { display: flex; flex-direction: row; flex-wrap: wrap; justify-content: flex-start; width: 100% }\n",
              "    .wandb-col { display: flex; flex-direction: column; flex-basis: 100%; flex: 1; padding: 10px; }\n",
              "    </style>\n",
              "<div class=\"wandb-row\"><div class=\"wandb-col\"><h3>Run history:</h3><br/><table class=\"wandb\"><tr><td>test_accuracy</td><td>▁▆▆▆▅▇▅▇█▇</td></tr><tr><td>test_loss</td><td>█▄▃▄▄▂▅▂▁▂</td></tr><tr><td>train_accuracy</td><td>▁▅▆▇▇▇▇███</td></tr><tr><td>train_loss</td><td>▅▁▁█▄▁▃▂▁▃</td></tr></table><br/></div><div class=\"wandb-col\"><h3>Run summary:</h3><br/><table class=\"wandb\"><tr><td>test_accuracy</td><td>0.8949</td></tr><tr><td>test_loss</td><td>0.21002</td></tr><tr><td>train_accuracy</td><td>0.9267</td></tr><tr><td>train_loss</td><td>0.25694</td></tr></table><br/></div></div>"
            ]
          },
          "metadata": {}
        },
        {
          "output_type": "display_data",
          "data": {
            "text/plain": [
              "<IPython.core.display.HTML object>"
            ],
            "text/html": [
              " View run <strong style=\"color:#cdcd00\">lilac-forest-3</strong> at: <a href='https://wandb.ai/gret-ell/ready_go/runs/859hzwt4' target=\"_blank\">https://wandb.ai/gret-ell/ready_go/runs/859hzwt4</a><br/>Synced 5 W&B file(s), 0 media file(s), 0 artifact file(s) and 0 other file(s)"
            ]
          },
          "metadata": {}
        },
        {
          "output_type": "display_data",
          "data": {
            "text/plain": [
              "<IPython.core.display.HTML object>"
            ],
            "text/html": [
              "Find logs at: <code>./wandb/run-20230222_131405-859hzwt4/logs</code>"
            ]
          },
          "metadata": {}
        },
        {
          "output_type": "display_data",
          "data": {
            "text/plain": [
              "<IPython.core.display.HTML object>"
            ],
            "text/html": [
              "Successfully finished last run (ID:859hzwt4). Initializing new run:<br/>"
            ]
          },
          "metadata": {}
        },
        {
          "output_type": "display_data",
          "data": {
            "text/plain": [
              "<IPython.core.display.HTML object>"
            ],
            "text/html": [
              "Tracking run with wandb version 0.13.10"
            ]
          },
          "metadata": {}
        },
        {
          "output_type": "display_data",
          "data": {
            "text/plain": [
              "<IPython.core.display.HTML object>"
            ],
            "text/html": [
              "Run data is saved locally in <code>/content/wandb/run-20230222_132516-8atfgam5</code>"
            ]
          },
          "metadata": {}
        },
        {
          "output_type": "display_data",
          "data": {
            "text/plain": [
              "<IPython.core.display.HTML object>"
            ],
            "text/html": [
              "Syncing run <strong><a href='https://wandb.ai/gret-ell/ready_go/runs/8atfgam5' target=\"_blank\">zany-snowflake-4</a></strong> to <a href='https://wandb.ai/gret-ell/ready_go' target=\"_blank\">Weights & Biases</a> (<a href='https://wandb.me/run' target=\"_blank\">docs</a>)<br/>"
            ]
          },
          "metadata": {}
        },
        {
          "output_type": "display_data",
          "data": {
            "text/plain": [
              "<IPython.core.display.HTML object>"
            ],
            "text/html": [
              " View project at <a href='https://wandb.ai/gret-ell/ready_go' target=\"_blank\">https://wandb.ai/gret-ell/ready_go</a>"
            ]
          },
          "metadata": {}
        },
        {
          "output_type": "display_data",
          "data": {
            "text/plain": [
              "<IPython.core.display.HTML object>"
            ],
            "text/html": [
              " View run at <a href='https://wandb.ai/gret-ell/ready_go/runs/8atfgam5' target=\"_blank\">https://wandb.ai/gret-ell/ready_go/runs/8atfgam5</a>"
            ]
          },
          "metadata": {}
        },
        {
          "output_type": "stream",
          "name": "stdout",
          "text": [
            "\n",
            "Epoch: 1\n"
          ]
        },
        {
          "output_type": "stream",
          "name": "stderr",
          "text": [
            "100%|██████████| 938/938 [00:15<00:00, 61.50it/s]"
          ]
        },
        {
          "output_type": "stream",
          "name": "stdout",
          "text": [
            "\n",
            "Train set: Average loss: 0.3481, Accuracy: 80%\n"
          ]
        },
        {
          "output_type": "stream",
          "name": "stderr",
          "text": [
            "\n"
          ]
        },
        {
          "output_type": "stream",
          "name": "stdout",
          "text": [
            "Test set: Average loss: 0.3882, Accuracy: 83%\n",
            "\n",
            "Epoch: 2\n"
          ]
        },
        {
          "output_type": "stream",
          "name": "stderr",
          "text": [
            "100%|██████████| 938/938 [00:15<00:00, 61.35it/s]"
          ]
        },
        {
          "output_type": "stream",
          "name": "stdout",
          "text": [
            "\n",
            "Train set: Average loss: 0.2506, Accuracy: 88%\n"
          ]
        },
        {
          "output_type": "stream",
          "name": "stderr",
          "text": [
            "\n"
          ]
        },
        {
          "output_type": "stream",
          "name": "stdout",
          "text": [
            "Test set: Average loss: 0.2577, Accuracy: 87%\n",
            "\n",
            "Epoch: 3\n"
          ]
        },
        {
          "output_type": "stream",
          "name": "stderr",
          "text": [
            "100%|██████████| 938/938 [00:16<00:00, 57.73it/s]"
          ]
        },
        {
          "output_type": "stream",
          "name": "stdout",
          "text": [
            "\n",
            "Train set: Average loss: 0.2708, Accuracy: 89%\n"
          ]
        },
        {
          "output_type": "stream",
          "name": "stderr",
          "text": [
            "\n"
          ]
        },
        {
          "output_type": "stream",
          "name": "stdout",
          "text": [
            "Test set: Average loss: 0.2343, Accuracy: 89%\n",
            "\n",
            "Epoch: 4\n"
          ]
        },
        {
          "output_type": "stream",
          "name": "stderr",
          "text": [
            "100%|██████████| 938/938 [00:15<00:00, 60.69it/s]"
          ]
        },
        {
          "output_type": "stream",
          "name": "stdout",
          "text": [
            "\n",
            "Train set: Average loss: 0.9327, Accuracy: 90%\n"
          ]
        },
        {
          "output_type": "stream",
          "name": "stderr",
          "text": [
            "\n"
          ]
        },
        {
          "output_type": "stream",
          "name": "stdout",
          "text": [
            "Test set: Average loss: 0.2518, Accuracy: 89%\n",
            "\n",
            "Epoch: 5\n"
          ]
        },
        {
          "output_type": "stream",
          "name": "stderr",
          "text": [
            "100%|██████████| 938/938 [00:15<00:00, 61.40it/s]"
          ]
        },
        {
          "output_type": "stream",
          "name": "stdout",
          "text": [
            "\n",
            "Train set: Average loss: 0.3477, Accuracy: 90%\n"
          ]
        },
        {
          "output_type": "stream",
          "name": "stderr",
          "text": [
            "\n"
          ]
        },
        {
          "output_type": "stream",
          "name": "stdout",
          "text": [
            "Test set: Average loss: 0.2380, Accuracy: 89%\n",
            "\n",
            "Epoch: 6\n"
          ]
        },
        {
          "output_type": "stream",
          "name": "stderr",
          "text": [
            "100%|██████████| 938/938 [00:15<00:00, 59.30it/s]"
          ]
        },
        {
          "output_type": "stream",
          "name": "stdout",
          "text": [
            "\n",
            "Train set: Average loss: 0.0567, Accuracy: 90%\n"
          ]
        },
        {
          "output_type": "stream",
          "name": "stderr",
          "text": [
            "\n"
          ]
        },
        {
          "output_type": "stream",
          "name": "stdout",
          "text": [
            "Test set: Average loss: 0.2220, Accuracy: 88%\n",
            "\n",
            "Epoch: 7\n"
          ]
        },
        {
          "output_type": "stream",
          "name": "stderr",
          "text": [
            "100%|██████████| 938/938 [00:15<00:00, 61.80it/s]"
          ]
        },
        {
          "output_type": "stream",
          "name": "stdout",
          "text": [
            "\n",
            "Train set: Average loss: 0.3462, Accuracy: 89%\n"
          ]
        },
        {
          "output_type": "stream",
          "name": "stderr",
          "text": [
            "\n"
          ]
        },
        {
          "output_type": "stream",
          "name": "stdout",
          "text": [
            "Test set: Average loss: 0.2870, Accuracy: 89%\n",
            "\n",
            "Epoch: 8\n"
          ]
        },
        {
          "output_type": "stream",
          "name": "stderr",
          "text": [
            "100%|██████████| 938/938 [00:15<00:00, 60.10it/s]"
          ]
        },
        {
          "output_type": "stream",
          "name": "stdout",
          "text": [
            "\n",
            "Train set: Average loss: 0.4157, Accuracy: 89%\n"
          ]
        },
        {
          "output_type": "stream",
          "name": "stderr",
          "text": [
            "\n"
          ]
        },
        {
          "output_type": "stream",
          "name": "stdout",
          "text": [
            "Test set: Average loss: 0.3362, Accuracy: 85%\n",
            "\n",
            "Epoch: 9\n"
          ]
        },
        {
          "output_type": "stream",
          "name": "stderr",
          "text": [
            "100%|██████████| 938/938 [00:17<00:00, 53.45it/s]"
          ]
        },
        {
          "output_type": "stream",
          "name": "stdout",
          "text": [
            "\n",
            "Train set: Average loss: 0.2563, Accuracy: 88%\n"
          ]
        },
        {
          "output_type": "stream",
          "name": "stderr",
          "text": [
            "\n"
          ]
        },
        {
          "output_type": "stream",
          "name": "stdout",
          "text": [
            "Test set: Average loss: 0.3479, Accuracy: 87%\n",
            "\n",
            "Epoch: 10\n"
          ]
        },
        {
          "output_type": "stream",
          "name": "stderr",
          "text": [
            "100%|██████████| 938/938 [00:15<00:00, 61.79it/s]\n"
          ]
        },
        {
          "output_type": "stream",
          "name": "stdout",
          "text": [
            "\n",
            "Train set: Average loss: 0.4738, Accuracy: 88%\n",
            "Test set: Average loss: 0.3138, Accuracy: 87%\n",
            "Training is end!\n"
          ]
        }
      ]
    },
    {
      "cell_type": "markdown",
      "source": [
        "![2023-02-22_16-43-09.png](data:image/png;base64,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)"
      ],
      "metadata": {
        "id": "-yjyHdtcXHNI"
      }
    },
    {
      "cell_type": "code",
      "source": [
        "class_correct = [0. for _ in range(10)]\n",
        "total_correct = [0. for _ in range(10)]\n",
        "\n",
        "with torch.no_grad():\n",
        "    for images, labels in test_loader:\n",
        "        images, labels = images.to(device), labels.to(device)\n",
        "        test = Variable(images)\n",
        "        outputs = model(test)\n",
        "        predicted = torch.max(outputs, 1)[1]\n",
        "        c = (predicted == labels).squeeze()\n",
        "        \n",
        "        for i in range(100):\n",
        "            label = labels[i]\n",
        "            class_correct[label] += c[i].item()\n",
        "            total_correct[label] += 1\n",
        "        \n",
        "for i in range(10):\n",
        "    print(\"Accuracy of {}: {:.2f}%\".format(output_label(i), class_correct[i] * 100 / total_correct[i]))"
      ],
      "metadata": {
        "colab": {
          "base_uri": "https://localhost:8080/"
        },
        "id": "MVvuqKaZjRzs",
        "outputId": "9bf31889-d042-49f7-d049-7c959bd79199"
      },
      "execution_count": null,
      "outputs": [
        {
          "output_type": "stream",
          "name": "stdout",
          "text": [
            "Accuracy of T-shirt/Top: 69.73%\n",
            "Accuracy of Trouser: 95.90%\n",
            "Accuracy of Pullover: 86.12%\n",
            "Accuracy of Dress: 80.37%\n",
            "Accuracy of Coat: 76.92%\n",
            "Accuracy of Sandal: 98.05%\n",
            "Accuracy of Shirt: 79.25%\n",
            "Accuracy of Sneaker: 87.79%\n",
            "Accuracy of Bag: 97.51%\n",
            "Accuracy of Ankle Boot: 98.19%\n"
          ]
        }
      ]
    },
    {
      "cell_type": "markdown",
      "source": [
        "Выводы:\n",
        "\n",
        "Количество эпох велико - модель переобучается. Наименьшие ошибки были на 6-й эпохе.\n",
        "\n",
        "У SGD: \n",
        "\n",
        "Train set: Average loss: 0.1378, Accuracy: 91%\n",
        "\n",
        "Test set: Average loss: 0.1994, Accuracy: 90%\n",
        "\n",
        "У Adam:\n",
        "\n",
        "Train set: Average loss: 0.0567, Accuracy: 90%\n",
        "\n",
        "Test set: Average loss: 0.2220, Accuracy: 88%"
      ],
      "metadata": {
        "id": "gQtYBN6QfaD0"
      }
    },
    {
      "cell_type": "markdown",
      "source": [
        "Существует способ получить доступ к каждому изучаемому параметру модели вместе с их именами. Кстати, torch.nn.Parameter является подклассом Tensor, который при использовании с torch.nn.Module автоматически добавляется в список его параметров"
      ],
      "metadata": {
        "id": "q6-jCcQ7owYy"
      }
    },
    {
      "cell_type": "code",
      "source": [
        "for name, param in model.named_parameters():\n",
        "    print('name: ', name)\n",
        "    print(type(param))\n",
        "    print('param.shape: ', param.shape)\n",
        "    print('param.requires_grad: ', param.requires_grad)\n",
        "    print('=====')\n",
        "# Печать state_dict оптимизатора\n",
        "print(\"state_dict оптимизатора:\")\n",
        "for  var_name  in  optimizer.state_dict():\n",
        "    print(var_name, \"\\t\", optimizer.state_dict()[var_name])\n",
        "    print('=====')"
      ],
      "metadata": {
        "colab": {
          "base_uri": "https://localhost:8080/"
        },
        "id": "kfH8UQutokb6",
        "outputId": "c027d93a-dc5b-4348-8de9-693f96f0b05f"
      },
      "execution_count": null,
      "outputs": [
        {
          "output_type": "stream",
          "name": "stdout",
          "text": [
            "name:  layer1.0.weight\n",
            "<class 'torch.nn.parameter.Parameter'>\n",
            "param.shape:  torch.Size([32, 1, 3, 3])\n",
            "param.requires_grad:  True\n",
            "=====\n",
            "name:  layer1.0.bias\n",
            "<class 'torch.nn.parameter.Parameter'>\n",
            "param.shape:  torch.Size([32])\n",
            "param.requires_grad:  True\n",
            "=====\n",
            "name:  layer1.1.weight\n",
            "<class 'torch.nn.parameter.Parameter'>\n",
            "param.shape:  torch.Size([32])\n",
            "param.requires_grad:  True\n",
            "=====\n",
            "name:  layer1.1.bias\n",
            "<class 'torch.nn.parameter.Parameter'>\n",
            "param.shape:  torch.Size([32])\n",
            "param.requires_grad:  True\n",
            "=====\n",
            "name:  layer2.0.weight\n",
            "<class 'torch.nn.parameter.Parameter'>\n",
            "param.shape:  torch.Size([64, 32, 3, 3])\n",
            "param.requires_grad:  True\n",
            "=====\n",
            "name:  layer2.0.bias\n",
            "<class 'torch.nn.parameter.Parameter'>\n",
            "param.shape:  torch.Size([64])\n",
            "param.requires_grad:  True\n",
            "=====\n",
            "name:  layer2.1.weight\n",
            "<class 'torch.nn.parameter.Parameter'>\n",
            "param.shape:  torch.Size([64])\n",
            "param.requires_grad:  True\n",
            "=====\n",
            "name:  layer2.1.bias\n",
            "<class 'torch.nn.parameter.Parameter'>\n",
            "param.shape:  torch.Size([64])\n",
            "param.requires_grad:  True\n",
            "=====\n",
            "name:  fc1.weight\n",
            "<class 'torch.nn.parameter.Parameter'>\n",
            "param.shape:  torch.Size([600, 2304])\n",
            "param.requires_grad:  True\n",
            "=====\n",
            "name:  fc1.bias\n",
            "<class 'torch.nn.parameter.Parameter'>\n",
            "param.shape:  torch.Size([600])\n",
            "param.requires_grad:  True\n",
            "=====\n",
            "name:  fc2.weight\n",
            "<class 'torch.nn.parameter.Parameter'>\n",
            "param.shape:  torch.Size([120, 600])\n",
            "param.requires_grad:  True\n",
            "=====\n",
            "name:  fc2.bias\n",
            "<class 'torch.nn.parameter.Parameter'>\n",
            "param.shape:  torch.Size([120])\n",
            "param.requires_grad:  True\n",
            "=====\n",
            "name:  fc3.weight\n",
            "<class 'torch.nn.parameter.Parameter'>\n",
            "param.shape:  torch.Size([10, 120])\n",
            "param.requires_grad:  True\n",
            "=====\n",
            "name:  fc3.bias\n",
            "<class 'torch.nn.parameter.Parameter'>\n",
            "param.shape:  torch.Size([10])\n",
            "param.requires_grad:  True\n",
            "=====\n",
            "state_dict оптимизатора:\n",
            "state \t {0: {'step': tensor(9380.), 'exp_avg': tensor([[[[-1.1636e-03, -1.6923e-04, -1.7731e-04],\n",
            "          [-1.0071e-03,  1.8956e-04,  1.9438e-04],\n",
            "          [-1.4634e-03, -1.5700e-03, -1.3668e-03]]],\n",
            "\n",
            "\n",
            "        [[[-1.2597e-03, -8.0152e-04, -1.7293e-04],\n",
            "          [ 1.5999e-04,  5.8991e-04,  3.0833e-04],\n",
            "          [ 1.1390e-04,  4.8039e-04, -2.5226e-05]]],\n",
            "\n",
            "\n",
            "        [[[ 1.1657e-03, -2.4926e-04,  2.3968e-04],\n",
            "          [ 4.8535e-03,  2.0548e-03,  1.4805e-03],\n",
            "          [ 8.3341e-03,  5.1531e-03,  2.2906e-03]]],\n",
            "\n",
            "\n",
            "        [[[-9.2386e-05, -2.0220e-05,  1.5168e-04],\n",
            "          [ 7.8113e-04,  7.2448e-04,  3.5904e-04],\n",
            "          [ 3.3080e-03,  4.2582e-03,  1.1638e-03]]],\n",
            "\n",
            "\n",
            "        [[[ 4.1294e-03,  9.5578e-05,  7.2392e-06],\n",
            "          [ 8.5869e-03,  5.5806e-03,  2.0811e-03],\n",
            "          [ 7.6009e-03,  4.8731e-03,  1.2690e-03]]],\n",
            "\n",
            "\n",
            "        [[[ 3.3046e-04,  1.6536e-04,  5.2164e-04],\n",
            "          [ 1.8508e-04, -1.3353e-05, -1.8627e-04],\n",
            "          [ 8.2490e-05, -1.7836e-04, -4.6308e-04]]],\n",
            "\n",
            "\n",
            "        [[[ 2.0192e-05,  4.2014e-05,  9.4431e-06],\n",
            "          [-7.9087e-05,  3.6677e-05, -4.3810e-05],\n",
            "          [-1.6118e-05,  6.5638e-05, -9.0348e-06]]],\n",
            "\n",
            "\n",
            "        [[[ 2.9040e-03,  2.4891e-03, -3.0469e-03],\n",
            "          [ 6.3792e-03,  8.5746e-03,  7.8617e-03],\n",
            "          [-8.6046e-03, -5.0370e-03,  5.8188e-04]]],\n",
            "\n",
            "\n",
            "        [[[-1.9564e-04, -2.5636e-03, -4.0765e-03],\n",
            "          [ 5.0642e-04,  3.0311e-04,  2.7632e-03],\n",
            "          [-3.1625e-03, -5.1315e-03, -3.5821e-03]]],\n",
            "\n",
            "\n",
            "        [[[-7.3024e-04, -3.9344e-04, -2.0917e-04],\n",
            "          [-8.4432e-05,  3.3356e-04,  2.4103e-04],\n",
            "          [-1.8381e-04, -6.0346e-04, -1.2435e-03]]],\n",
            "\n",
            "\n",
            "        [[[-1.4052e-02, -1.2837e-02, -1.1578e-02],\n",
            "          [-8.3718e-03, -8.6149e-03, -1.8529e-02],\n",
            "          [-4.1460e-03, -6.8413e-03, -1.3305e-02]]],\n",
            "\n",
            "\n",
            "        [[[-2.2203e-04, -1.4476e-04, -8.9370e-05],\n",
            "          [-9.4351e-05, -9.6449e-05, -1.9671e-04],\n",
            "          [-3.4187e-04, -4.2927e-04, -2.6984e-04]]],\n",
            "\n",
            "\n",
            "        [[[-4.3245e-04,  6.5867e-04,  9.3485e-04],\n",
            "          [ 2.0745e-05,  1.7772e-03,  8.5031e-04],\n",
            "          [-5.7665e-04,  2.6261e-03,  9.0377e-05]]],\n",
            "\n",
            "\n",
            "        [[[ 2.3361e-03,  1.5410e-04, -1.4112e-03],\n",
            "          [ 6.7802e-03,  3.1960e-03,  1.6602e-03],\n",
            "          [ 9.6771e-03,  3.4447e-03,  3.7659e-04]]],\n",
            "\n",
            "\n",
            "        [[[-1.7229e-03, -5.0395e-03, -6.3870e-03],\n",
            "          [ 3.0313e-04, -1.9259e-03, -3.9256e-03],\n",
            "          [-1.9911e-03, -3.5467e-03, -4.3768e-03]]],\n",
            "\n",
            "\n",
            "        [[[-9.6940e-04,  5.3748e-04, -1.9034e-03],\n",
            "          [ 1.5556e-03,  3.8687e-03, -1.5032e-03],\n",
            "          [ 1.0607e-03,  1.9416e-04, -1.6825e-03]]],\n",
            "\n",
            "\n",
            "        [[[ 1.0116e-02,  8.1459e-03,  4.8937e-03],\n",
            "          [ 1.9103e-03,  1.0366e-04, -4.3118e-03],\n",
            "          [-5.9517e-03, -4.1523e-03, -2.1789e-03]]],\n",
            "\n",
            "\n",
            "        [[[-5.6459e-04,  1.6653e-04, -1.6709e-03],\n",
            "          [-3.3729e-04,  6.7803e-04, -4.2818e-04],\n",
            "          [-1.0025e-03, -1.6791e-03, -1.9029e-03]]],\n",
            "\n",
            "\n",
            "        [[[-1.4109e-04, -7.8339e-03,  4.9364e-04],\n",
            "          [ 1.1966e-02,  3.9706e-03,  5.1837e-03],\n",
            "          [ 4.8423e-03,  4.6233e-03,  5.8555e-03]]],\n",
            "\n",
            "\n",
            "        [[[ 2.1677e-03,  3.1373e-03,  1.0107e-03],\n",
            "          [ 4.0452e-03, -8.8825e-04, -2.2359e-03],\n",
            "          [ 8.1778e-04, -1.8258e-03, -9.6282e-05]]],\n",
            "\n",
            "\n",
            "        [[[ 2.5687e-04,  1.5524e-04,  2.7882e-04],\n",
            "          [ 1.3138e-04, -9.3891e-05,  1.4884e-04],\n",
            "          [-7.3039e-04, -3.2416e-04, -5.5393e-04]]],\n",
            "\n",
            "\n",
            "        [[[-1.2232e-05,  1.6440e-04, -3.3268e-04],\n",
            "          [ 3.1036e-04,  1.3571e-04, -1.0928e-03],\n",
            "          [ 7.4014e-04,  1.4420e-03, -7.6088e-05]]],\n",
            "\n",
            "\n",
            "        [[[ 1.0829e-04, -4.8679e-05, -1.3974e-04],\n",
            "          [ 2.6180e-04,  4.2699e-04,  2.7286e-04],\n",
            "          [-2.3244e-04, -3.0109e-04, -6.4874e-04]]],\n",
            "\n",
            "\n",
            "        [[[-6.4673e-05, -4.6521e-04, -9.5780e-04],\n",
            "          [-1.1093e-05,  3.1489e-04,  8.5004e-05],\n",
            "          [ 2.0442e-03,  2.5200e-03,  1.4043e-03]]],\n",
            "\n",
            "\n",
            "        [[[-4.4499e-04,  5.3821e-04,  7.4530e-05],\n",
            "          [-1.2202e-04,  4.6462e-04,  6.0546e-05],\n",
            "          [-1.4721e-04,  1.4200e-04,  2.1911e-05]]],\n",
            "\n",
            "\n",
            "        [[[ 2.4054e-03,  4.5194e-03,  3.5281e-03],\n",
            "          [ 4.9079e-03,  6.1615e-03,  7.8966e-03],\n",
            "          [-2.2762e-03, -2.1420e-03, -3.2302e-03]]],\n",
            "\n",
            "\n",
            "        [[[-2.4965e-03, -3.6900e-03, -1.0497e-02],\n",
            "          [-1.5872e-03, -2.6157e-03, -5.2094e-03],\n",
            "          [-3.8525e-03, -1.8570e-03, -2.6676e-03]]],\n",
            "\n",
            "\n",
            "        [[[ 7.2176e-04,  1.2153e-03,  9.7192e-04],\n",
            "          [-5.7878e-04,  4.9783e-04,  3.2980e-04],\n",
            "          [ 9.2182e-04,  1.7358e-03,  8.4888e-04]]],\n",
            "\n",
            "\n",
            "        [[[ 8.4172e-04,  4.1347e-03,  8.1278e-04],\n",
            "          [-8.7043e-04,  5.8540e-03,  4.4734e-03],\n",
            "          [-1.5778e-03,  2.2713e-03,  2.0429e-03]]],\n",
            "\n",
            "\n",
            "        [[[ 5.0285e-03,  9.4128e-04, -5.7394e-04],\n",
            "          [ 6.3498e-03,  3.7989e-03,  2.5559e-03],\n",
            "          [ 6.9319e-03,  2.6106e-03,  4.4857e-03]]],\n",
            "\n",
            "\n",
            "        [[[ 1.3928e-03,  1.5220e-03,  1.2895e-03],\n",
            "          [ 4.5561e-04, -8.7705e-04, -7.7096e-04],\n",
            "          [ 9.9236e-05, -9.8361e-04, -1.1374e-03]]],\n",
            "\n",
            "\n",
            "        [[[ 1.5881e-03,  7.3455e-04,  7.1920e-04],\n",
            "          [ 3.0577e-03,  3.1143e-03,  2.4205e-03],\n",
            "          [ 2.4664e-03,  2.2338e-03,  2.2461e-03]]]], device='cuda:0'), 'exp_avg_sq': tensor([[[[3.3048e-05, 1.3081e-05, 1.0469e-05],\n",
            "          [2.5611e-05, 7.9906e-07, 1.3062e-06],\n",
            "          [9.0222e-05, 2.8356e-05, 3.7738e-05]]],\n",
            "\n",
            "\n",
            "        [[[4.2636e-05, 2.9944e-05, 1.9081e-04],\n",
            "          [1.0359e-05, 1.2451e-05, 2.0287e-04],\n",
            "          [8.6273e-06, 1.6746e-05, 1.9049e-04]]],\n",
            "\n",
            "\n",
            "        [[[3.0737e-04, 6.4977e-05, 2.5420e-05],\n",
            "          [2.9697e-04, 4.5686e-05, 2.1585e-05],\n",
            "          [3.8695e-04, 1.0301e-04, 5.1494e-05]]],\n",
            "\n",
            "\n",
            "        [[[7.5365e-06, 3.3410e-06, 2.7947e-05],\n",
            "          [1.9734e-05, 6.2828e-06, 6.5484e-05],\n",
            "          [1.7727e-04, 1.6098e-04, 2.1519e-04]]],\n",
            "\n",
            "\n",
            "        [[[4.7172e-04, 2.0453e-04, 6.7124e-05],\n",
            "          [4.1750e-04, 1.4555e-04, 4.4737e-05],\n",
            "          [3.5715e-04, 1.8272e-04, 5.9756e-05]]],\n",
            "\n",
            "\n",
            "        [[[2.8133e-05, 4.6940e-06, 1.2239e-05],\n",
            "          [2.4906e-05, 2.8038e-06, 1.0726e-05],\n",
            "          [2.1531e-05, 4.4788e-06, 1.4285e-05]]],\n",
            "\n",
            "\n",
            "        [[[6.4548e-07, 3.3000e-07, 6.9815e-07],\n",
            "          [7.3438e-07, 3.7525e-07, 7.2629e-07],\n",
            "          [1.8515e-06, 1.5147e-06, 1.4870e-06]]],\n",
            "\n",
            "\n",
            "        [[[8.6283e-03, 8.3731e-03, 7.9025e-03],\n",
            "          [6.9017e-03, 7.0074e-03, 6.3625e-03],\n",
            "          [6.0589e-03, 6.0392e-03, 6.0473e-03]]],\n",
            "\n",
            "\n",
            "        [[[9.0446e-04, 7.3441e-04, 7.2832e-04],\n",
            "          [7.9986e-04, 6.9777e-04, 6.3597e-04],\n",
            "          [7.3195e-04, 6.3677e-04, 5.6849e-04]]],\n",
            "\n",
            "\n",
            "        [[[2.3403e-05, 8.1737e-06, 1.0514e-05],\n",
            "          [1.4028e-05, 1.5893e-06, 2.6285e-06],\n",
            "          [4.8954e-05, 1.2175e-05, 2.8798e-05]]],\n",
            "\n",
            "\n",
            "        [[[1.3137e-03, 6.3192e-04, 6.5531e-04],\n",
            "          [6.7891e-04, 1.9568e-04, 7.7478e-04],\n",
            "          [3.3595e-04, 1.9821e-04, 7.5406e-04]]],\n",
            "\n",
            "\n",
            "        [[[2.1020e-05, 1.9231e-05, 1.9891e-05],\n",
            "          [1.7693e-05, 1.7337e-05, 1.9297e-05],\n",
            "          [2.0709e-05, 1.8716e-05, 2.4389e-05]]],\n",
            "\n",
            "\n",
            "        [[[7.1587e-06, 2.9084e-05, 1.4921e-04],\n",
            "          [5.9182e-06, 2.8673e-05, 1.8709e-04],\n",
            "          [3.0975e-05, 8.9444e-05, 3.1073e-04]]],\n",
            "\n",
            "\n",
            "        [[[6.7779e-04, 5.6985e-04, 2.6988e-04],\n",
            "          [7.3453e-04, 2.8393e-04, 7.6681e-05],\n",
            "          [5.7611e-04, 1.3541e-04, 7.7353e-05]]],\n",
            "\n",
            "\n",
            "        [[[7.0803e-04, 6.8029e-04, 8.1890e-04],\n",
            "          [7.7010e-04, 7.7329e-04, 8.8259e-04],\n",
            "          [6.1871e-04, 6.0017e-04, 6.3437e-04]]],\n",
            "\n",
            "\n",
            "        [[[1.5011e-03, 1.6885e-03, 1.8025e-03],\n",
            "          [1.2332e-03, 1.4138e-03, 1.5792e-03],\n",
            "          [1.2179e-03, 1.3850e-03, 1.5614e-03]]],\n",
            "\n",
            "\n",
            "        [[[9.2162e-04, 1.3451e-03, 1.7503e-03],\n",
            "          [4.6787e-04, 1.1876e-03, 1.7672e-03],\n",
            "          [4.7696e-04, 1.3202e-03, 1.5511e-03]]],\n",
            "\n",
            "\n",
            "        [[[1.1374e-04, 9.9448e-05, 1.1095e-04],\n",
            "          [2.8214e-05, 3.2016e-06, 1.4248e-05],\n",
            "          [1.4208e-04, 4.4123e-05, 5.6790e-05]]],\n",
            "\n",
            "\n",
            "        [[[1.6907e-03, 2.0207e-03, 2.0827e-03],\n",
            "          [1.7024e-03, 1.8470e-03, 1.9633e-03],\n",
            "          [1.8161e-03, 1.8529e-03, 1.8607e-03]]],\n",
            "\n",
            "\n",
            "        [[[4.6294e-04, 3.0717e-04, 5.8968e-04],\n",
            "          [4.9591e-04, 2.3225e-04, 5.5207e-04],\n",
            "          [6.0756e-04, 4.3246e-04, 5.0862e-04]]],\n",
            "\n",
            "\n",
            "        [[[4.4485e-05, 1.0710e-05, 2.0508e-05],\n",
            "          [4.1712e-05, 2.1812e-05, 3.4748e-05],\n",
            "          [3.9156e-05, 3.9022e-05, 5.0294e-05]]],\n",
            "\n",
            "\n",
            "        [[[8.5023e-07, 1.0601e-06, 3.2136e-05],\n",
            "          [3.5092e-06, 3.6446e-06, 3.9058e-05],\n",
            "          [4.7809e-05, 5.8596e-05, 1.0639e-04]]],\n",
            "\n",
            "\n",
            "        [[[6.0116e-06, 4.6514e-06, 2.5468e-06],\n",
            "          [1.0996e-05, 9.9880e-06, 1.0554e-05],\n",
            "          [2.0346e-05, 2.0387e-05, 2.0716e-05]]],\n",
            "\n",
            "\n",
            "        [[[6.7029e-05, 5.2180e-05, 6.9069e-05],\n",
            "          [5.4409e-05, 5.6624e-05, 8.0467e-05],\n",
            "          [7.1517e-05, 7.3685e-05, 1.0844e-04]]],\n",
            "\n",
            "\n",
            "        [[[1.2154e-06, 1.2673e-06, 4.6224e-06],\n",
            "          [3.1940e-06, 3.6548e-06, 4.8684e-06],\n",
            "          [4.1383e-06, 4.4712e-06, 5.6322e-06]]],\n",
            "\n",
            "\n",
            "        [[[1.8208e-03, 1.9563e-03, 2.0197e-03],\n",
            "          [1.6821e-03, 1.8441e-03, 1.9196e-03],\n",
            "          [1.4512e-03, 1.5893e-03, 1.6829e-03]]],\n",
            "\n",
            "\n",
            "        [[[4.4937e-05, 1.9668e-04, 6.2377e-04],\n",
            "          [1.5267e-05, 2.0171e-04, 5.0123e-04],\n",
            "          [1.3472e-04, 2.4358e-04, 3.9160e-04]]],\n",
            "\n",
            "\n",
            "        [[[3.8510e-06, 5.6294e-06, 9.1510e-06],\n",
            "          [1.3298e-06, 3.5467e-06, 6.1070e-06],\n",
            "          [8.0078e-06, 8.3225e-06, 1.0319e-05]]],\n",
            "\n",
            "\n",
            "        [[[7.8857e-04, 8.4173e-04, 9.1943e-04],\n",
            "          [7.3211e-04, 7.6439e-04, 8.4985e-04],\n",
            "          [7.0099e-04, 7.3787e-04, 8.0758e-04]]],\n",
            "\n",
            "\n",
            "        [[[9.4717e-05, 2.7371e-05, 2.8542e-05],\n",
            "          [2.4250e-04, 1.2853e-04, 2.0397e-04],\n",
            "          [4.9324e-04, 3.8603e-04, 3.2734e-04]]],\n",
            "\n",
            "\n",
            "        [[[2.5943e-05, 5.3703e-05, 8.3053e-05],\n",
            "          [6.1194e-05, 5.7007e-05, 5.6249e-05],\n",
            "          [1.0642e-04, 1.0635e-04, 9.7603e-05]]],\n",
            "\n",
            "\n",
            "        [[[8.0113e-05, 1.7892e-05, 1.7872e-05],\n",
            "          [1.2420e-04, 8.5874e-05, 8.1716e-05],\n",
            "          [8.6138e-05, 6.4267e-05, 9.0494e-05]]]], device='cuda:0')}, 1: {'step': tensor(9380.), 'exp_avg': tensor([ 2.0260e-10,  8.9179e-10,  4.1488e-11, -1.8537e-09,  5.4465e-10,\n",
            "        -1.3163e-10,  3.0038e-11,  4.3132e-10,  3.1768e-09,  7.3476e-10,\n",
            "        -1.8900e-09, -1.6473e-11, -2.3499e-09, -2.1721e-10, -2.6489e-09,\n",
            "        -1.4685e-09,  2.8602e-09, -4.0643e-10,  2.5572e-09, -4.0323e-10,\n",
            "         1.6679e-10, -4.3547e-10, -6.6759e-11,  6.5233e-10,  1.3072e-10,\n",
            "        -4.0603e-09,  1.6633e-09,  3.0000e-10,  1.9459e-09,  9.0479e-10,\n",
            "        -8.2248e-10, -8.6787e-10], device='cuda:0'), 'exp_avg_sq': tensor([9.5850e-18, 1.2212e-17, 1.5012e-17, 1.7053e-17, 1.7462e-17, 3.2308e-18,\n",
            "        3.5346e-19, 6.3491e-16, 9.7883e-17, 1.0180e-17, 6.7086e-17, 3.3680e-18,\n",
            "        1.4469e-17, 3.4031e-17, 9.7788e-17, 1.8697e-16, 6.5203e-17, 1.9940e-17,\n",
            "        2.9353e-16, 8.3432e-17, 9.9517e-18, 7.4367e-18, 3.0728e-18, 6.6489e-18,\n",
            "        1.7122e-18, 1.2822e-16, 3.3240e-17, 2.8773e-18, 6.8331e-17, 2.6537e-17,\n",
            "        1.3212e-17, 8.6472e-18], device='cuda:0')}, 2: {'step': tensor(9380.), 'exp_avg': tensor([-0.0022, -0.0024, -0.0012, -0.0031,  0.0019,  0.0008,  0.0015,  0.0153,\n",
            "         0.0075, -0.0012, -0.0074, -0.0008, -0.0005,  0.0006, -0.0076,  0.0020,\n",
            "        -0.0107, -0.0028,  0.0055,  0.0058,  0.0030, -0.0020,  0.0037,  0.0016,\n",
            "         0.0023,  0.0020, -0.0050,  0.0028, -0.0003, -0.0035, -0.0012,  0.0018],\n",
            "       device='cuda:0'), 'exp_avg_sq': tensor([0.0002, 0.0003, 0.0004, 0.0003, 0.0003, 0.0007, 0.0002, 0.0016, 0.0015,\n",
            "        0.0002, 0.0004, 0.0002, 0.0003, 0.0003, 0.0041, 0.0011, 0.0008, 0.0002,\n",
            "        0.0027, 0.0029, 0.0007, 0.0002, 0.0005, 0.0001, 0.0005, 0.0012, 0.0004,\n",
            "        0.0008, 0.0012, 0.0004, 0.0012, 0.0001], device='cuda:0')}, 3: {'step': tensor(9380.), 'exp_avg': tensor([-2.6518e-03, -2.5656e-03, -4.0311e-03, -2.7269e-03, -8.4036e-04,\n",
            "         8.0868e-04,  1.2772e-03, -1.7252e-03, -6.3593e-04, -2.1652e-03,\n",
            "        -6.1989e-03, -3.9616e-04, -7.8321e-04, -6.3149e-04, -2.2787e-03,\n",
            "        -7.9734e-03, -9.7837e-03, -4.3375e-03, -8.1034e-05,  3.8502e-03,\n",
            "         1.9508e-03, -2.1197e-03,  4.0727e-03,  3.8086e-03,  1.0782e-03,\n",
            "        -4.2779e-04, -4.0714e-03,  1.2041e-03, -1.9812e-03, -4.3519e-03,\n",
            "        -2.4270e-03,  8.5000e-04], device='cuda:0'), 'exp_avg_sq': tensor([2.7699e-04, 4.2521e-04, 5.4487e-04, 4.1754e-04, 4.1321e-04, 2.0844e-04,\n",
            "        8.9667e-05, 9.2034e-04, 7.7107e-04, 3.1866e-04, 4.5482e-04, 7.3844e-05,\n",
            "        4.2606e-04, 3.4780e-04, 4.9347e-04, 6.2474e-04, 8.4892e-04, 2.9309e-04,\n",
            "        2.0382e-04, 1.0933e-03, 2.5695e-04, 3.2652e-04, 2.5205e-04, 2.4481e-04,\n",
            "        2.8129e-04, 3.3858e-04, 5.2363e-04, 3.2624e-04, 7.1922e-04, 3.8988e-04,\n",
            "        3.3176e-04, 1.1497e-04], device='cuda:0')}, 4: {'step': tensor(9380.), 'exp_avg': tensor([[[[ 3.4676e-09,  3.5757e-09,  1.1043e-08],\n",
            "          [ 4.4698e-09,  4.4204e-09,  1.1175e-08],\n",
            "          [ 3.5624e-09,  4.5630e-09,  6.4156e-09]],\n",
            "\n",
            "         [[ 2.1315e-09,  3.0953e-09, -1.8282e-09],\n",
            "          [ 2.3667e-09, -1.3565e-09,  9.7334e-09],\n",
            "          [ 1.6868e-09, -2.8074e-09,  8.7572e-09]],\n",
            "\n",
            "         [[ 3.4955e-09,  3.3575e-09,  7.0524e-09],\n",
            "          [ 4.1468e-09,  3.3866e-09, -1.4433e-09],\n",
            "          [ 3.0142e-09,  9.2169e-09, -1.1701e-08]],\n",
            "\n",
            "         ...,\n",
            "\n",
            "         [[ 3.7571e-09,  4.2574e-09,  1.2622e-08],\n",
            "          [ 6.3063e-09,  7.1887e-09,  1.5063e-08],\n",
            "          [ 7.3419e-09,  1.0300e-08,  1.5531e-08]],\n",
            "\n",
            "         [[-5.6432e-10, -9.0614e-10, -7.4057e-10],\n",
            "          [-1.5109e-09, -2.0536e-09, -1.8222e-09],\n",
            "          [-1.6793e-09, -2.0661e-09, -1.4104e-08]],\n",
            "\n",
            "         [[ 1.6201e-09, -1.5720e-10,  3.6242e-09],\n",
            "          [ 2.2585e-09, -5.1018e-09,  4.9162e-09],\n",
            "          [ 2.3337e-09, -1.8404e-09, -9.2907e-09]]],\n",
            "\n",
            "\n",
            "        [[[ 7.1528e-04,  4.9742e-04, -9.8869e-06],\n",
            "          [ 7.8694e-04,  3.2782e-04, -1.0482e-04],\n",
            "          [ 2.4100e-04,  2.7928e-04,  3.2697e-04]],\n",
            "\n",
            "         [[ 4.1131e-04,  4.6651e-04,  1.7141e-04],\n",
            "          [ 7.6322e-04,  5.5159e-04,  1.3282e-04],\n",
            "          [ 7.6290e-04,  2.8007e-04,  2.3287e-05]],\n",
            "\n",
            "         [[ 1.0688e-03, -3.1935e-04, -4.2359e-04],\n",
            "          [ 3.7349e-04, -3.0062e-04, -1.5754e-04],\n",
            "          [-7.3256e-04, -9.4320e-06,  4.3708e-05]],\n",
            "\n",
            "         ...,\n",
            "\n",
            "         [[ 4.6903e-04,  3.5670e-04, -3.4754e-04],\n",
            "          [ 8.1167e-04,  2.6884e-04, -1.1367e-05],\n",
            "          [ 2.6644e-04,  2.5851e-04,  6.5123e-04]],\n",
            "\n",
            "         [[-4.6106e-04, -2.3658e-04, -3.3106e-04],\n",
            "          [-2.0872e-04, -7.0137e-04, -3.8945e-04],\n",
            "          [-1.5116e-04, -3.1611e-04, -2.2939e-04]],\n",
            "\n",
            "         [[ 2.3525e-04,  7.1674e-05, -2.7579e-04],\n",
            "          [ 3.5627e-05, -1.0868e-04, -1.2299e-05],\n",
            "          [-9.9844e-05,  1.8966e-04,  8.6450e-05]]],\n",
            "\n",
            "\n",
            "        [[[-9.2740e-23, -9.0487e-23, -5.3853e-23],\n",
            "          [-8.8724e-23, -1.0178e-22, -6.4285e-23],\n",
            "          [-7.1388e-23, -7.3568e-23, -3.6862e-23]],\n",
            "\n",
            "         [[ 1.9001e-23, -6.4869e-23, -5.6235e-23],\n",
            "          [-2.9916e-23, -7.8421e-23, -6.7775e-23],\n",
            "          [-2.8021e-23, -5.7199e-23, -2.8873e-23]],\n",
            "\n",
            "         [[-5.5580e-23, -2.1118e-23,  2.2750e-23],\n",
            "          [-1.5758e-23, -5.0812e-23,  1.1771e-23],\n",
            "          [-3.6192e-23, -4.8631e-23,  2.4730e-23]],\n",
            "\n",
            "         ...,\n",
            "\n",
            "         [[-1.3212e-22, -1.3472e-22, -6.8444e-23],\n",
            "          [-1.2395e-22, -1.4852e-22, -8.3561e-23],\n",
            "          [-7.7784e-23, -1.0190e-22, -2.3127e-23]],\n",
            "\n",
            "         [[-3.4656e-23,  1.0712e-22,  2.3557e-23],\n",
            "          [ 3.1206e-23,  1.0823e-22,  1.8464e-23],\n",
            "          [ 4.0839e-23,  5.6178e-23,  4.9583e-23]],\n",
            "\n",
            "         [[-3.2810e-23, -3.5238e-23, -8.9019e-24],\n",
            "          [-3.9295e-23, -4.7271e-23, -2.6435e-23],\n",
            "          [ 3.6693e-24, -2.7807e-23, -1.1431e-24]]],\n",
            "\n",
            "\n",
            "        ...,\n",
            "\n",
            "\n",
            "        [[[ 8.9474e-05,  4.5635e-05, -2.7921e-04],\n",
            "          [ 1.5227e-04,  8.1490e-05, -2.5202e-04],\n",
            "          [-5.5103e-06,  8.5038e-05, -3.1084e-04]],\n",
            "\n",
            "         [[ 2.2101e-04,  1.7625e-04,  9.9256e-05],\n",
            "          [ 1.8334e-04,  1.8935e-04,  4.4218e-05],\n",
            "          [-1.4489e-05,  1.0135e-04, -5.4258e-05]],\n",
            "\n",
            "         [[ 3.1322e-04, -1.4054e-04, -6.0728e-04],\n",
            "          [ 1.8658e-04, -2.6374e-05, -3.1629e-04],\n",
            "          [-5.6422e-05, -1.5840e-04, -5.1386e-04]],\n",
            "\n",
            "         ...,\n",
            "\n",
            "         [[ 9.6715e-04,  6.8408e-04,  1.2099e-04],\n",
            "          [ 1.5411e-04, -5.1856e-05, -1.5210e-04],\n",
            "          [ 9.5665e-06, -1.1450e-04, -3.4774e-04]],\n",
            "\n",
            "         [[ 2.0209e-03,  1.3556e-03,  9.6929e-04],\n",
            "          [-7.8149e-04,  1.2719e-04,  1.1842e-04],\n",
            "          [-2.0454e-03, -1.8019e-03, -1.2745e-03]],\n",
            "\n",
            "         [[-7.6343e-05, -1.3850e-04, -9.3903e-05],\n",
            "          [ 7.7794e-05, -2.6836e-05, -3.2669e-05],\n",
            "          [-1.4217e-04, -1.4919e-04, -1.8173e-04]]],\n",
            "\n",
            "\n",
            "        [[[-5.6052e-45, -5.6052e-45, -5.6052e-45],\n",
            "          [-5.6052e-45, -5.6052e-45, -5.6052e-45],\n",
            "          [-5.6052e-45,  5.6052e-45,  5.6052e-45]],\n",
            "\n",
            "         [[-5.6052e-45,  5.6052e-45, -5.6052e-45],\n",
            "          [-5.6052e-45,  5.6052e-45, -5.6052e-45],\n",
            "          [-5.6052e-45,  5.6052e-45,  5.6052e-45]],\n",
            "\n",
            "         [[-5.6052e-45, -5.6052e-45, -5.6052e-45],\n",
            "          [-5.6052e-45, -5.6052e-45, -5.6052e-45],\n",
            "          [ 5.6052e-45,  5.6052e-45,  5.6052e-45]],\n",
            "\n",
            "         ...,\n",
            "\n",
            "         [[-5.6052e-45, -5.6052e-45, -5.6052e-45],\n",
            "          [-5.6052e-45, -5.6052e-45, -5.6052e-45],\n",
            "          [-5.6052e-45, -5.6052e-45,  5.6052e-45]],\n",
            "\n",
            "         [[ 5.6052e-45,  5.6052e-45,  5.6052e-45],\n",
            "          [ 5.6052e-45,  5.6052e-45,  5.6052e-45],\n",
            "          [ 5.6052e-45,  5.6052e-45, -5.6052e-45]],\n",
            "\n",
            "         [[-5.6052e-45, -5.6052e-45, -5.6052e-45],\n",
            "          [-5.6052e-45, -5.6052e-45, -5.6052e-45],\n",
            "          [-5.6052e-45,  5.6052e-45,  5.6052e-45]]],\n",
            "\n",
            "\n",
            "        [[[-4.9074e-04, -2.2516e-04,  1.4818e-04],\n",
            "          [-9.7153e-04, -8.2134e-04,  1.4294e-04],\n",
            "          [-3.0264e-04, -6.6492e-07,  5.6350e-04]],\n",
            "\n",
            "         [[-4.1829e-04, -5.4551e-04, -1.5602e-04],\n",
            "          [-7.6616e-04, -8.4188e-04, -2.5822e-04],\n",
            "          [-3.6961e-04, -4.1710e-04,  4.4451e-04]],\n",
            "\n",
            "         [[-3.3778e-04, -1.0546e-04,  7.6208e-05],\n",
            "          [-8.6529e-04, -5.6037e-04,  2.2342e-04],\n",
            "          [-1.4640e-04,  3.0280e-04,  5.2356e-04]],\n",
            "\n",
            "         ...,\n",
            "\n",
            "         [[ 4.4778e-04,  1.0436e-03,  3.7192e-04],\n",
            "          [-2.3900e-04, -3.1714e-05,  1.2114e-04],\n",
            "          [-4.6542e-04, -4.8767e-04,  4.0351e-04]],\n",
            "\n",
            "         [[ 9.2772e-05, -5.5894e-05, -9.1491e-05],\n",
            "          [ 4.3316e-04,  8.1798e-04,  2.7462e-04],\n",
            "          [ 8.8066e-05,  9.8700e-06, -5.7229e-04]],\n",
            "\n",
            "         [[-1.0185e-04, -6.5248e-05, -1.6537e-04],\n",
            "          [ 2.8243e-04,  8.1570e-05, -5.7192e-06],\n",
            "          [-2.3284e-04,  3.9087e-07,  2.7780e-04]]]], device='cuda:0'), 'exp_avg_sq': tensor([[[[2.8549e-08, 2.4216e-08, 1.6183e-07],\n",
            "          [2.2576e-08, 3.1914e-08, 2.6918e-07],\n",
            "          [3.6501e-08, 1.4268e-07, 2.8649e-07]],\n",
            "\n",
            "         [[2.1736e-08, 3.3564e-08, 1.2300e-07],\n",
            "          [1.4231e-08, 3.8337e-08, 2.0123e-07],\n",
            "          [3.2383e-08, 9.4846e-08, 2.2798e-07]],\n",
            "\n",
            "         [[4.9429e-08, 3.6134e-08, 9.5766e-08],\n",
            "          [4.5285e-08, 4.6150e-08, 1.4614e-07],\n",
            "          [6.2776e-08, 8.8273e-08, 1.7707e-07]],\n",
            "\n",
            "         ...,\n",
            "\n",
            "         [[4.0867e-08, 3.6901e-08, 1.8851e-07],\n",
            "          [4.1898e-08, 7.9054e-08, 3.2850e-07],\n",
            "          [9.9623e-08, 1.8478e-07, 4.0002e-07]],\n",
            "\n",
            "         [[4.1929e-08, 4.7490e-08, 6.1004e-08],\n",
            "          [3.1214e-08, 2.7941e-08, 5.7505e-08],\n",
            "          [2.2858e-08, 3.6918e-08, 1.2682e-07]],\n",
            "\n",
            "         [[5.7890e-08, 3.6447e-08, 7.2669e-08],\n",
            "          [4.2722e-08, 4.2572e-08, 6.8932e-08],\n",
            "          [6.8936e-08, 5.8860e-08, 9.4381e-08]]],\n",
            "\n",
            "\n",
            "        [[[4.0539e-06, 5.1520e-06, 3.8262e-06],\n",
            "          [3.2230e-06, 2.0876e-06, 3.0097e-06],\n",
            "          [2.3590e-06, 8.2915e-07, 2.7437e-06]],\n",
            "\n",
            "         [[1.8540e-06, 2.3769e-06, 5.1357e-06],\n",
            "          [1.3734e-06, 1.4544e-06, 3.2466e-06],\n",
            "          [1.3157e-06, 1.1493e-06, 2.5387e-06]],\n",
            "\n",
            "         [[2.6999e-06, 3.1096e-06, 3.6999e-06],\n",
            "          [2.7187e-06, 3.0344e-06, 1.9334e-06],\n",
            "          [2.8304e-06, 3.3385e-06, 1.1996e-06]],\n",
            "\n",
            "         ...,\n",
            "\n",
            "         [[4.7431e-06, 5.3512e-06, 4.4297e-06],\n",
            "          [4.2169e-06, 3.7220e-06, 3.6113e-06],\n",
            "          [4.2916e-06, 2.9519e-06, 4.5948e-06]],\n",
            "\n",
            "         [[3.1103e-06, 4.6946e-06, 4.2584e-06],\n",
            "          [2.7446e-06, 3.9113e-06, 4.3042e-06],\n",
            "          [1.5992e-06, 1.4479e-06, 1.2096e-06]],\n",
            "\n",
            "         [[8.4911e-07, 1.3006e-06, 1.5819e-06],\n",
            "          [7.4122e-07, 1.0594e-06, 9.4918e-07],\n",
            "          [8.1650e-07, 8.8172e-07, 5.2866e-07]]],\n",
            "\n",
            "\n",
            "        [[[2.3549e-07, 2.2705e-07, 1.6759e-07],\n",
            "          [1.8896e-07, 1.9858e-07, 1.6416e-07],\n",
            "          [1.4496e-07, 1.4609e-07, 1.4457e-07]],\n",
            "\n",
            "         [[1.5791e-07, 1.5264e-07, 1.1246e-07],\n",
            "          [1.3486e-07, 1.6787e-07, 1.2073e-07],\n",
            "          [7.4282e-08, 1.4853e-07, 1.3398e-07]],\n",
            "\n",
            "         [[1.3962e-07, 8.3986e-08, 6.1510e-08],\n",
            "          [1.7508e-07, 7.3146e-08, 7.9731e-08],\n",
            "          [1.6211e-07, 6.7678e-08, 9.4545e-08]],\n",
            "\n",
            "         ...,\n",
            "\n",
            "         [[2.6619e-07, 2.2731e-07, 1.6039e-07],\n",
            "          [2.3979e-07, 1.9692e-07, 1.3869e-07],\n",
            "          [1.7546e-07, 1.7364e-07, 1.6421e-07]],\n",
            "\n",
            "         [[3.9365e-07, 4.4229e-07, 3.7068e-07],\n",
            "          [2.7095e-07, 3.8028e-07, 2.8221e-07],\n",
            "          [1.9523e-07, 1.8023e-07, 1.7571e-07]],\n",
            "\n",
            "         [[1.0157e-07, 1.5420e-07, 8.3575e-08],\n",
            "          [9.2601e-08, 1.2966e-07, 1.2784e-07],\n",
            "          [1.1391e-07, 1.1092e-07, 1.2968e-07]]],\n",
            "\n",
            "\n",
            "        ...,\n",
            "\n",
            "\n",
            "        [[[4.3915e-06, 4.6236e-06, 8.0115e-06],\n",
            "          [2.8302e-06, 3.4957e-06, 9.3309e-06],\n",
            "          [4.1036e-06, 5.0604e-06, 1.0879e-05]],\n",
            "\n",
            "         [[3.5181e-06, 5.1981e-07, 1.0735e-06],\n",
            "          [3.0717e-06, 4.5029e-07, 1.1647e-06],\n",
            "          [3.8770e-06, 1.0114e-06, 2.0350e-06]],\n",
            "\n",
            "         [[1.3230e-06, 2.7545e-06, 3.3348e-06],\n",
            "          [9.6113e-07, 2.2070e-06, 3.2240e-06],\n",
            "          [1.3966e-06, 2.9374e-06, 3.6638e-06]],\n",
            "\n",
            "         ...,\n",
            "\n",
            "         [[3.0224e-05, 3.7338e-05, 4.3295e-05],\n",
            "          [6.8212e-06, 7.7296e-06, 1.5620e-05],\n",
            "          [6.3598e-06, 8.2842e-06, 1.8025e-05]],\n",
            "\n",
            "         [[1.1262e-05, 1.2740e-05, 8.2964e-06],\n",
            "          [1.2511e-05, 1.1952e-05, 1.1718e-05],\n",
            "          [1.8919e-05, 1.5106e-05, 1.6032e-05]],\n",
            "\n",
            "         [[2.3562e-06, 5.4455e-06, 4.3467e-06],\n",
            "          [8.0503e-07, 9.8459e-07, 1.7054e-06],\n",
            "          [8.5517e-07, 1.0814e-06, 1.5628e-06]]],\n",
            "\n",
            "\n",
            "        [[[5.7041e-08, 6.7906e-08, 8.8801e-08],\n",
            "          [8.0413e-08, 8.0861e-08, 1.0337e-07],\n",
            "          [9.0963e-08, 8.6339e-08, 1.0168e-07]],\n",
            "\n",
            "         [[6.5790e-08, 9.1771e-08, 7.8382e-08],\n",
            "          [9.4580e-08, 1.2711e-07, 1.1722e-07],\n",
            "          [1.1256e-07, 9.7182e-08, 1.4043e-07]],\n",
            "\n",
            "         [[3.1445e-08, 5.8139e-08, 4.3411e-08],\n",
            "          [4.0357e-08, 5.4876e-08, 4.0367e-08],\n",
            "          [3.9882e-08, 5.2243e-08, 4.7651e-08]],\n",
            "\n",
            "         ...,\n",
            "\n",
            "         [[7.6476e-08, 1.3665e-07, 1.7197e-07],\n",
            "          [1.2689e-07, 1.5378e-07, 1.2778e-07],\n",
            "          [8.5068e-08, 8.1752e-08, 9.8733e-08]],\n",
            "\n",
            "         [[8.0699e-08, 1.0849e-07, 1.5869e-07],\n",
            "          [1.0176e-07, 1.2930e-07, 2.1931e-07],\n",
            "          [1.2620e-07, 1.3417e-07, 1.7538e-07]],\n",
            "\n",
            "         [[7.9086e-08, 7.9128e-08, 7.8672e-08],\n",
            "          [7.1724e-08, 7.5913e-08, 7.6414e-08],\n",
            "          [6.2618e-08, 6.3062e-08, 4.8171e-08]]],\n",
            "\n",
            "\n",
            "        [[[4.9550e-07, 4.9895e-07, 9.5636e-07],\n",
            "          [9.8848e-07, 1.1447e-06, 1.0987e-06],\n",
            "          [7.6370e-07, 9.2626e-07, 9.1740e-07]],\n",
            "\n",
            "         [[3.6051e-07, 9.6639e-07, 9.5504e-07],\n",
            "          [6.3570e-07, 1.8224e-06, 8.6948e-07],\n",
            "          [4.9005e-07, 1.4927e-06, 6.3411e-07]],\n",
            "\n",
            "         [[3.4906e-07, 3.4698e-07, 2.0050e-07],\n",
            "          [7.5713e-07, 4.3129e-07, 1.4698e-07],\n",
            "          [5.3066e-07, 3.2981e-07, 3.8113e-07]],\n",
            "\n",
            "         ...,\n",
            "\n",
            "         [[9.5668e-07, 2.3064e-06, 4.7405e-06],\n",
            "          [2.1036e-06, 2.5842e-06, 1.7019e-06],\n",
            "          [1.6737e-06, 1.6375e-06, 1.6246e-06]],\n",
            "\n",
            "         [[3.1063e-07, 2.8070e-07, 4.2038e-07],\n",
            "          [5.2882e-07, 6.8085e-07, 9.2624e-07],\n",
            "          [4.9387e-07, 5.3495e-07, 1.2645e-06]],\n",
            "\n",
            "         [[1.3157e-07, 2.3736e-07, 2.7753e-07],\n",
            "          [2.4746e-07, 3.7374e-07, 2.2943e-07],\n",
            "          [1.8843e-07, 1.8106e-07, 1.5920e-07]]]], device='cuda:0')}, 5: {'step': tensor(9380.), 'exp_avg': tensor([ 2.0736e-17, -1.9773e-10,  1.8070e-29,  1.7184e-10,  2.4561e-13,\n",
            "         5.6052e-45, -6.9816e-40,  7.9664e-13,  1.1512e-12,  1.6320e-11,\n",
            "        -5.9125e-13,  5.6052e-45, -1.8505e-22, -1.1600e-10,  5.6052e-45,\n",
            "         5.6052e-45, -1.1197e-10, -9.8091e-45, -7.6384e-11, -5.6052e-45,\n",
            "         2.7867e-10, -1.1641e-41,  5.7321e-11, -5.6052e-45, -1.0665e-16,\n",
            "         5.6052e-45, -5.6052e-45, -7.9529e-16,  4.4174e-30, -1.3130e-19,\n",
            "         5.0387e-13,  1.4364e-10,  4.8551e-21,  3.9485e-13, -5.7551e-42,\n",
            "        -7.2000e-12, -5.6052e-45,  1.9606e-12, -7.6858e-13, -5.6052e-45,\n",
            "        -1.0462e-11,  5.0261e-11, -4.6647e-34, -5.9872e-11, -2.4784e-20,\n",
            "         1.3599e-22, -5.6052e-45,  1.3103e-11, -5.9156e-12,  7.0463e-11,\n",
            "        -5.6052e-45, -6.1076e-24,  5.6052e-45,  2.5728e-10, -3.6959e-21,\n",
            "         5.6052e-45, -8.0648e-25, -5.6052e-45,  7.8318e-14,  4.7651e-12,\n",
            "         5.6052e-45,  2.2762e-10, -5.6052e-45, -1.2226e-10], device='cuda:0'), 'exp_avg_sq': tensor([2.4982e-20, 3.8118e-19, 4.1770e-20, 1.9677e-19, 2.8707e-19, 5.4967e-20,\n",
            "        9.8179e-21, 8.8023e-20, 2.8570e-20, 5.2301e-19, 2.6981e-20, 2.6478e-20,\n",
            "        4.1913e-19, 8.1011e-19, 7.4782e-21, 3.7826e-20, 6.2137e-19, 9.9525e-20,\n",
            "        3.1355e-19, 2.4740e-20, 2.0497e-19, 1.1434e-20, 6.4169e-19, 5.2421e-20,\n",
            "        3.7134e-20, 7.1326e-20, 2.7520e-19, 3.3992e-19, 8.4794e-21, 1.5887e-19,\n",
            "        2.8483e-19, 7.7618e-19, 6.1144e-19, 6.9086e-20, 1.0056e-20, 2.5156e-19,\n",
            "        1.3410e-20, 7.6592e-19, 3.8624e-20, 3.0978e-20, 5.5201e-20, 1.1082e-19,\n",
            "        3.6817e-20, 1.4293e-18, 2.7703e-20, 2.4156e-19, 5.1095e-20, 5.1588e-19,\n",
            "        2.4265e-19, 2.9749e-19, 1.0252e-19, 5.5434e-20, 3.1274e-20, 9.1571e-19,\n",
            "        1.8768e-20, 1.1325e-20, 8.4348e-20, 5.5282e-20, 6.1877e-20, 9.1757e-20,\n",
            "        1.0038e-19, 4.5107e-18, 3.2433e-20, 1.7150e-19], device='cuda:0')}, 6: {'step': tensor(9380.), 'exp_avg': tensor([-1.5415e-06, -1.2262e-01,  1.1841e-20, -1.4940e-01, -2.0189e-04,\n",
            "         5.6052e-45,  6.0051e-31, -5.5198e-04, -8.0062e-04, -1.8432e-01,\n",
            "         6.3529e-04,  1.2778e-29, -1.4153e-13, -2.8185e-01,  5.6052e-45,\n",
            "         5.6052e-45,  6.0868e-02,  1.6198e-35, -3.3384e-02, -5.6052e-45,\n",
            "         3.4380e-02,  8.5363e-32, -7.4142e-02,  3.6714e-43, -3.3593e-07,\n",
            "         3.7394e-37,  5.6052e-45,  2.4592e-06, -1.5222e-21,  8.7816e-11,\n",
            "         3.5972e-03, -4.2381e-02,  4.5195e-11, -1.0190e-02,  8.2496e-33,\n",
            "         4.1238e-03,  6.8173e-42, -1.9997e-03,  1.8021e-03,  5.6052e-45,\n",
            "         8.1317e-03,  7.4102e-03,  2.3397e-24,  2.5538e-02, -2.9005e-11,\n",
            "         1.2619e-13,  5.6052e-45, -2.6407e-02,  2.7695e-03, -1.4213e-02,\n",
            "         3.5193e-39,  1.1183e-14,  3.4348e-10, -5.2524e-02,  5.1401e-13,\n",
            "        -1.4770e-42,  5.5824e-16,  1.4504e-37, -2.9107e-04,  4.0207e-03,\n",
            "         5.6052e-45,  1.4271e-01,  5.6052e-45,  1.2248e-03], device='cuda:0'), 'exp_avg_sq': tensor([8.5385e-04, 1.5539e-01, 7.7560e-04, 7.0810e-02, 1.4064e-02, 7.0408e-05,\n",
            "        1.7397e-04, 4.1106e-03, 8.0412e-04, 1.3549e-01, 1.7801e-03, 6.7652e-05,\n",
            "        6.5523e-02, 2.2542e-01, 6.3828e-05, 5.6909e-03, 7.6916e-02, 9.4697e-03,\n",
            "        5.4439e-02, 4.5948e-05, 6.2012e-02, 1.0003e-03, 1.8176e-01, 2.2177e-04,\n",
            "        2.1000e-04, 1.7646e-03, 3.9762e-03, 2.3010e-02, 6.7616e-05, 1.3215e-02,\n",
            "        1.0583e-01, 7.5354e-02, 5.0996e-02, 1.0685e-02, 5.5505e-04, 1.5251e-02,\n",
            "        3.8648e-04, 1.3580e-01, 2.5221e-03, 1.2057e-04, 1.1320e-02, 1.5306e-03,\n",
            "        4.3021e-04, 1.2867e-01, 1.1482e-03, 1.3647e-02, 7.4858e-05, 6.0988e-02,\n",
            "        1.0128e-02, 1.4862e-01, 9.5187e-04, 3.0446e-03, 9.5537e-04, 2.6091e-01,\n",
            "        8.2503e-05, 1.2207e-04, 4.1435e-03, 7.3855e-04, 3.5330e-03, 9.4835e-03,\n",
            "        1.6075e-04, 3.6966e-01, 1.3491e-04, 1.1343e-02], device='cuda:0')}, 7: {'step': tensor(9380.), 'exp_avg': tensor([-5.5924e-07, -3.9140e-02,  5.6765e-21, -8.5493e-02, -1.0463e-04,\n",
            "         5.6052e-45,  1.6698e-31, -2.5628e-04, -3.8503e-04, -1.1762e-01,\n",
            "         2.2903e-04,  7.1575e-30, -4.6776e-14, -1.4545e-01,  5.6052e-45,\n",
            "         5.6052e-45,  5.6479e-02,  1.0218e-35, -9.4482e-03, -5.6052e-45,\n",
            "         3.1127e-02,  1.7486e-32, -6.5467e-02,  1.4574e-43, -1.0901e-07,\n",
            "         1.9407e-37,  5.6052e-45,  1.0055e-06, -5.3542e-22,  3.3812e-11,\n",
            "         2.1089e-03, -3.2858e-02,  2.4767e-11, -3.9282e-03,  2.7407e-33,\n",
            "         1.7774e-03,  2.8180e-42, -9.0975e-04,  7.3608e-04,  5.6052e-45,\n",
            "         7.2804e-03,  5.6622e-03,  1.6211e-24,  3.0742e-02, -7.5042e-12,\n",
            "         9.8102e-14,  5.6052e-45, -1.8915e-02,  2.0455e-03, -2.6305e-03,\n",
            "         1.8034e-39,  4.4832e-15,  1.4355e-10, -5.2067e-02,  3.0128e-13,\n",
            "        -5.6052e-43,  3.8312e-16,  4.3671e-38, -1.0693e-04,  1.7884e-03,\n",
            "         5.6052e-45,  8.6984e-02,  5.6052e-45, -5.0458e-03], device='cuda:0'), 'exp_avg_sq': tensor([3.7474e-04, 5.7847e-02, 3.6516e-04, 2.6525e-02, 7.8387e-03, 5.3876e-05,\n",
            "        7.2033e-05, 1.6501e-03, 4.5112e-04, 5.9398e-02, 4.8516e-04, 5.7241e-05,\n",
            "        2.3337e-02, 9.5685e-02, 3.0727e-05, 2.5949e-03, 3.2256e-02, 3.2422e-03,\n",
            "        2.1239e-02, 4.4087e-05, 2.0420e-02, 2.2841e-04, 7.5907e-02, 1.2175e-04,\n",
            "        7.3040e-05, 6.4749e-04, 2.1040e-03, 8.2292e-03, 3.9883e-05, 2.1560e-03,\n",
            "        4.2866e-02, 2.9131e-02, 1.4000e-02, 3.3271e-03, 1.9629e-04, 5.4591e-03,\n",
            "        1.6516e-04, 5.9553e-02, 7.8181e-04, 9.4794e-05, 3.0853e-03, 1.2012e-03,\n",
            "        2.8669e-04, 5.4877e-02, 2.7601e-04, 9.4151e-03, 5.2721e-05, 2.5096e-02,\n",
            "        3.4833e-03, 6.1969e-02, 3.9798e-04, 1.0159e-03, 4.9525e-04, 1.1774e-01,\n",
            "        6.2793e-05, 5.5169e-05, 2.0023e-03, 2.5753e-04, 1.7141e-03, 2.8342e-03,\n",
            "        1.0647e-04, 1.8685e-01, 7.6543e-05, 6.0662e-03], device='cuda:0')}, 8: {'step': tensor(9380.), 'exp_avg': tensor([[-5.6052e-45, -4.5517e-13, -1.1069e-12,  ..., -4.0274e-06,\n",
            "          2.3455e-06,  1.5494e-06],\n",
            "        [-5.6052e-45, -1.9299e-13, -4.1139e-13,  ...,  7.7801e-06,\n",
            "          1.0701e-05, -3.4838e-06],\n",
            "        [ 5.6052e-45,  1.5070e-12,  3.7119e-12,  ..., -1.0558e-06,\n",
            "         -3.9943e-08,  5.8416e-07],\n",
            "        ...,\n",
            "        [-5.6052e-45, -1.1969e-12, -2.6098e-13,  ...,  2.8071e-05,\n",
            "          1.5526e-05,  1.8756e-05],\n",
            "        [ 5.6052e-45,  2.4404e-12,  2.3849e-14,  ..., -5.7665e-05,\n",
            "         -4.0403e-05, -3.8275e-05],\n",
            "        [-5.6052e-45, -9.8362e-13,  7.3574e-13,  ..., -1.8355e-05,\n",
            "         -2.1027e-05, -2.1374e-05]], device='cuda:0'), 'exp_avg_sq': tensor([[1.9092e-08, 1.1165e-08, 4.2347e-09,  ..., 3.1092e-09, 2.5944e-09,\n",
            "         4.9696e-09],\n",
            "        [1.4293e-08, 7.4207e-09, 2.3996e-09,  ..., 2.4471e-09, 3.8890e-09,\n",
            "         4.9078e-09],\n",
            "        [1.2661e-08, 9.4942e-09, 2.3154e-09,  ..., 2.1099e-09, 2.4063e-09,\n",
            "         2.9875e-09],\n",
            "        ...,\n",
            "        [1.6947e-08, 1.2426e-08, 2.8034e-09,  ..., 2.5477e-09, 2.1886e-09,\n",
            "         3.3795e-09],\n",
            "        [1.3041e-08, 9.9980e-09, 4.3166e-09,  ..., 5.1196e-09, 5.3259e-09,\n",
            "         4.7449e-09],\n",
            "        [1.3040e-08, 8.6848e-09, 3.7499e-09,  ..., 4.8245e-09, 5.3291e-09,\n",
            "         4.5663e-09]], device='cuda:0')}, 9: {'step': tensor(9380.), 'exp_avg': tensor([-5.9720e-04, -3.7823e-04, -2.5198e-03, -1.2821e-04,  9.0441e-04,\n",
            "        -1.3590e-03, -3.9828e-04, -1.4298e-03,  2.5176e-04, -7.5553e-04,\n",
            "        -2.5845e-04, -3.8472e-05,  1.4967e-03, -5.7490e-04,  1.6481e-04,\n",
            "         6.3694e-04,  5.0783e-04, -2.7691e-04,  2.5223e-04,  2.1809e-04,\n",
            "         6.8655e-04,  3.7429e-04,  1.6834e-04, -3.2461e-04,  4.0067e-04,\n",
            "         1.5065e-03,  1.3053e-03, -1.7458e-03,  1.5176e-03, -8.2993e-04,\n",
            "        -2.1875e-04, -6.6352e-04, -1.8381e-03, -4.2561e-04,  1.8094e-03,\n",
            "        -1.4406e-03,  3.3007e-04, -2.5377e-04,  3.6590e-04,  2.4222e-03,\n",
            "        -1.7930e-04,  5.2401e-04,  9.7681e-04, -2.7559e-04,  1.7797e-03,\n",
            "         6.6601e-04, -2.8120e-04,  1.8402e-04, -2.8364e-04,  2.2412e-04,\n",
            "        -2.6430e-04, -3.2989e-04, -6.1970e-05,  2.3595e-04, -9.9641e-05,\n",
            "         4.8050e-04,  2.8175e-04,  2.0100e-03,  1.6635e-03,  7.2408e-04,\n",
            "        -2.8906e-04, -1.2628e-03,  6.9514e-04,  5.8928e-04, -1.7228e-03,\n",
            "         6.9734e-04,  1.1179e-04,  2.9343e-04,  5.4388e-04, -3.3023e-03,\n",
            "         1.2801e-03, -9.1496e-05, -2.4345e-04,  9.4133e-04,  4.2250e-05,\n",
            "        -1.0919e-03,  2.8514e-04, -1.7816e-03, -1.8924e-03, -6.3072e-04,\n",
            "         9.1075e-04,  7.9967e-05, -2.7578e-03, -2.5116e-04,  8.2424e-04,\n",
            "        -2.3641e-04,  7.9199e-04, -1.1348e-04,  2.6015e-04,  1.9554e-04,\n",
            "        -5.9477e-05, -4.8312e-04, -7.6546e-04,  9.7158e-04,  1.4668e-03,\n",
            "         6.3956e-04,  8.9796e-05, -8.5843e-04, -6.9095e-04, -5.0351e-05,\n",
            "        -7.8371e-04,  1.6296e-04,  3.0753e-04,  4.8244e-05, -4.5411e-04,\n",
            "         1.0694e-03,  6.5483e-04,  7.2351e-04,  3.2377e-04,  6.8144e-04,\n",
            "        -7.6725e-04, -6.6533e-04, -8.1338e-04, -9.0669e-04,  5.5750e-05,\n",
            "         6.6873e-04, -1.1772e-04, -1.0505e-03,  6.1618e-04, -1.2873e-03,\n",
            "        -5.5743e-04, -9.4234e-04,  5.0093e-04, -5.3326e-04,  4.7373e-04,\n",
            "         6.1272e-05, -2.8387e-05,  3.2663e-05, -2.1026e-04, -9.2971e-04,\n",
            "         2.3170e-04, -6.1340e-04, -2.0853e-04, -1.4533e-04, -1.3101e-04,\n",
            "        -6.9230e-04,  3.3520e-04,  3.7193e-04,  5.0530e-04,  9.9901e-05,\n",
            "        -8.0428e-05,  7.1700e-04, -6.0393e-05, -2.6817e-04,  2.6146e-04,\n",
            "        -3.4032e-04,  8.0460e-05,  9.3799e-04,  1.1478e-03,  7.9446e-04,\n",
            "        -4.5217e-04, -4.1234e-04, -6.0513e-04, -1.1239e-03,  8.0620e-04,\n",
            "         1.0685e-03, -1.3074e-03, -1.0132e-03,  5.3546e-05, -9.5629e-04,\n",
            "         7.3950e-04,  3.1964e-04, -3.5349e-04,  3.5542e-04,  4.5362e-04,\n",
            "         1.0043e-03,  9.2081e-04, -1.5199e-03,  1.1898e-03, -1.3194e-04,\n",
            "        -5.5662e-04,  8.1313e-04,  4.7179e-04,  3.4375e-04, -2.8013e-04,\n",
            "        -5.8687e-04, -8.9263e-05, -3.1069e-04,  1.1308e-03,  1.2294e-04,\n",
            "        -1.4279e-03, -5.1332e-04, -1.0006e-03,  1.5094e-03, -9.2844e-05,\n",
            "         2.3097e-04, -2.4689e-03,  6.4254e-04, -5.8428e-04,  5.6653e-04,\n",
            "         7.3573e-05, -1.0566e-04, -1.2645e-03, -8.4322e-04, -8.0355e-04,\n",
            "        -2.1953e-03,  1.0919e-03, -4.8353e-05,  8.7812e-06,  8.3058e-04,\n",
            "        -8.8036e-05, -5.2013e-04, -1.1603e-03,  3.2864e-05,  6.2237e-04,\n",
            "         2.4378e-04,  3.2759e-04,  5.4569e-04, -5.0282e-04, -6.6505e-04,\n",
            "         9.6831e-04,  8.6487e-04, -4.0389e-04, -1.7832e-03, -6.6762e-04,\n",
            "         1.3133e-04,  4.4853e-04, -7.5625e-04,  2.0026e-03,  9.7577e-05,\n",
            "         6.4777e-04,  3.4990e-04, -8.9035e-04,  1.0707e-03, -3.2566e-04,\n",
            "         3.7948e-04,  2.6298e-04, -2.9548e-04,  1.1306e-05, -1.8137e-03,\n",
            "        -6.8621e-04,  4.3882e-04, -9.6076e-05,  1.3296e-03,  1.7741e-04,\n",
            "         8.8585e-04, -6.9649e-04,  6.6092e-04, -2.4535e-03,  3.9068e-04,\n",
            "        -4.0461e-05,  2.6773e-03, -4.3176e-04, -7.9785e-04,  2.8437e-04,\n",
            "         9.5957e-04, -5.1137e-03, -1.1380e-03, -1.0575e-04,  4.2635e-04,\n",
            "        -1.8608e-04,  2.9308e-04, -3.0550e-03, -1.3956e-03,  5.0076e-04,\n",
            "        -3.3175e-04,  1.1567e-04,  6.4104e-05, -1.3616e-06, -7.9867e-04,\n",
            "        -1.6657e-03, -9.0539e-05,  1.6794e-03,  3.4023e-04,  1.4624e-03,\n",
            "         3.9918e-04,  3.6691e-04,  6.5322e-04, -1.9348e-05,  1.2249e-03,\n",
            "         3.9740e-04,  2.7735e-04, -6.3640e-04,  2.5886e-03, -9.1241e-04,\n",
            "         6.2999e-04, -8.1956e-04,  1.8080e-03,  1.1436e-03, -2.8479e-04,\n",
            "        -7.9718e-04,  9.4599e-04,  4.8943e-04, -3.7181e-04, -8.3289e-04,\n",
            "        -1.2198e-03,  6.0488e-06, -2.2794e-03, -9.2489e-05,  1.5584e-04,\n",
            "        -2.9652e-04,  6.1290e-04,  1.3060e-03,  2.3647e-04,  3.7103e-04,\n",
            "         5.0514e-04,  1.8132e-04, -3.2837e-05,  8.4258e-04, -1.2745e-03,\n",
            "         4.5320e-04, -1.0679e-03, -8.5794e-04,  1.7282e-03, -1.0213e-03,\n",
            "        -1.5777e-03,  9.4168e-04,  1.5169e-03,  1.0987e-03,  4.5272e-04,\n",
            "        -1.1041e-03,  1.9354e-04, -2.2572e-03,  1.9978e-03, -1.5380e-04,\n",
            "        -9.5053e-04,  8.4173e-04,  5.4850e-06, -1.3853e-03, -2.0645e-04,\n",
            "         5.3795e-04,  1.4147e-03,  1.4558e-03,  2.1224e-04, -3.3472e-04,\n",
            "         1.4764e-03, -1.2102e-04,  1.1262e-03, -5.3883e-04, -1.7392e-04,\n",
            "         1.6687e-03, -3.0591e-04,  1.6811e-03,  4.8846e-05,  7.7777e-05,\n",
            "         4.3990e-04, -5.8901e-04,  6.1434e-04,  8.1873e-04, -2.7016e-04,\n",
            "        -6.6215e-04, -9.4861e-04,  1.1143e-03,  6.8054e-04,  9.8040e-04,\n",
            "         1.4268e-04, -4.3561e-04, -1.0028e-03, -2.0966e-03, -3.0408e-04,\n",
            "         1.0755e-03, -3.6003e-05, -1.2970e-04, -2.8056e-04,  6.7082e-05,\n",
            "        -4.0225e-04, -1.8542e-04, -3.4625e-04,  1.3917e-03, -5.8100e-04,\n",
            "         7.6465e-05,  6.5785e-04,  8.3140e-04, -5.1412e-04,  1.9875e-03,\n",
            "        -2.5870e-04, -2.4983e-04,  6.6224e-06, -6.5858e-04,  4.1736e-05,\n",
            "         7.4425e-04, -1.4632e-04,  6.0804e-04,  1.8273e-04,  2.8297e-04,\n",
            "         4.3343e-04, -1.1054e-03, -3.6713e-05, -4.1390e-04, -1.0423e-03,\n",
            "         1.2593e-03,  2.0511e-04,  1.2813e-03,  1.9825e-04, -1.3774e-03,\n",
            "         5.1236e-04,  2.0802e-04,  4.5843e-05,  2.1543e-05, -2.1665e-04,\n",
            "         2.1518e-04,  5.5635e-04, -1.3722e-03,  6.7499e-04,  9.2738e-04,\n",
            "        -5.9940e-04, -3.7556e-04,  6.1406e-04,  2.3593e-04,  3.0370e-05,\n",
            "         1.0240e-03,  1.9272e-03,  5.3510e-05, -5.6649e-04, -9.7251e-04,\n",
            "        -6.7891e-04,  2.2867e-03, -7.6136e-04,  7.3397e-04,  9.4028e-05,\n",
            "         2.4114e-04, -7.4613e-04, -2.9042e-04, -9.6663e-04,  5.1432e-04,\n",
            "         9.4436e-04,  6.8959e-04, -2.6939e-06,  5.6284e-04,  4.1962e-04,\n",
            "         1.3830e-03, -4.6634e-04,  2.9785e-04, -7.7969e-04,  4.4378e-04,\n",
            "        -3.0130e-04, -9.4605e-04, -9.7302e-04, -4.2918e-04,  4.4997e-04,\n",
            "         7.2913e-04,  9.5947e-04, -3.7341e-04, -3.3821e-04,  1.1538e-04,\n",
            "         4.0236e-04,  8.2416e-04, -3.3914e-04,  1.0269e-03,  4.0186e-04,\n",
            "        -6.3849e-04, -1.9795e-03, -7.7632e-04,  5.9313e-04,  3.4187e-04,\n",
            "         2.3834e-03,  3.2644e-04, -1.4251e-03,  5.1411e-04, -6.2593e-04,\n",
            "        -5.6398e-05,  7.0960e-04, -2.6415e-04,  2.0341e-03, -1.4811e-04,\n",
            "        -1.6289e-03,  3.8902e-04, -6.0836e-06, -1.5307e-04, -1.6113e-03,\n",
            "        -1.0739e-03,  5.7407e-04,  3.5460e-04,  1.3498e-03, -7.3195e-04,\n",
            "         3.8121e-04,  1.1644e-03, -5.7585e-04, -1.0443e-04, -7.6489e-05,\n",
            "         3.7854e-04,  3.2817e-04, -3.9837e-04,  5.7873e-04, -1.0868e-03,\n",
            "        -5.0872e-04,  6.9772e-04,  1.4555e-03, -4.8298e-05,  1.2348e-03,\n",
            "        -3.0733e-04,  6.6401e-04, -3.9738e-05,  1.3862e-04, -1.7891e-03,\n",
            "        -9.3769e-04, -1.0167e-03, -7.9506e-04, -1.1051e-03, -2.3893e-04,\n",
            "         1.6428e-03, -1.0875e-04,  7.9474e-04,  1.3303e-03, -3.9444e-04,\n",
            "        -4.5157e-04,  1.1044e-03,  2.1525e-04,  5.7727e-04,  2.7844e-04,\n",
            "         8.7511e-04, -1.2192e-03,  6.9865e-04, -8.1069e-04,  3.2849e-04,\n",
            "        -1.6707e-03, -2.2403e-04,  4.6927e-04,  1.4111e-04, -1.1160e-03,\n",
            "        -1.6057e-06,  2.1943e-04,  1.2128e-05,  1.4777e-03,  8.4058e-04,\n",
            "         1.1515e-03, -8.3314e-04, -7.1327e-04,  8.7398e-04,  1.9415e-04,\n",
            "         9.0656e-04, -1.6693e-03,  2.2700e-04,  3.4539e-04, -1.5217e-03,\n",
            "         6.6270e-04, -9.2424e-04,  5.7558e-04, -7.9015e-05,  4.2728e-04,\n",
            "         5.1546e-04,  9.3311e-04,  5.6589e-04,  4.9746e-04, -2.3289e-06,\n",
            "        -9.6284e-04, -1.0511e-03, -8.5207e-04,  6.9834e-04, -1.3355e-03,\n",
            "        -1.9794e-03, -1.9105e-03,  8.3382e-04,  6.9535e-04,  1.0162e-04,\n",
            "         2.3980e-03,  2.1533e-04, -4.4977e-04, -3.6339e-04,  5.7492e-04,\n",
            "         1.8517e-04, -4.1059e-04,  1.2932e-03,  2.2228e-04, -4.7550e-04,\n",
            "         4.0999e-04, -2.2388e-05,  5.7771e-04,  1.5247e-04,  7.3735e-04,\n",
            "         1.0417e-03,  4.6786e-05,  2.5698e-04, -5.2754e-04,  2.6896e-03,\n",
            "        -9.7625e-04,  4.0750e-04,  7.4372e-05, -1.1178e-03, -4.7567e-04,\n",
            "         1.1651e-04,  1.5166e-03, -5.9399e-05,  8.3338e-04,  3.3524e-04,\n",
            "        -3.5633e-03,  8.1884e-04,  1.7965e-03, -1.7961e-03, -3.4461e-04,\n",
            "         1.9643e-04, -4.3180e-04, -6.8921e-04,  2.5431e-04,  7.9118e-04,\n",
            "         5.7382e-05,  2.2221e-04,  6.4107e-04, -1.0716e-03, -4.7573e-04,\n",
            "         1.7843e-03, -7.2740e-04,  7.9766e-04,  2.1661e-03,  4.1963e-04,\n",
            "        -6.7508e-04,  4.0946e-04, -1.3919e-03, -9.5329e-04, -1.2555e-03],\n",
            "       device='cuda:0'), 'exp_avg_sq': tensor([6.7947e-06, 5.0935e-06, 1.6955e-05, 5.2021e-06, 8.1467e-06, 5.9708e-06,\n",
            "        1.1674e-05, 2.3043e-05, 5.5813e-06, 1.0080e-05, 3.6188e-06, 6.0492e-06,\n",
            "        1.2757e-05, 1.3343e-05, 1.4615e-05, 7.3143e-06, 3.2749e-06, 4.6486e-06,\n",
            "        1.5546e-05, 1.9877e-05, 1.1529e-05, 1.2082e-05, 1.5568e-05, 9.2551e-06,\n",
            "        1.9793e-05, 6.3936e-06, 1.6477e-05, 1.3385e-05, 4.0346e-05, 4.5927e-06,\n",
            "        5.4369e-06, 3.5934e-06, 6.9966e-06, 4.3191e-06, 3.2701e-06, 1.1666e-05,\n",
            "        8.8302e-06, 2.1156e-06, 1.1631e-05, 2.0743e-05, 8.4736e-06, 7.4066e-06,\n",
            "        7.6778e-06, 8.4682e-06, 2.1236e-05, 6.8421e-06, 1.3121e-05, 1.9416e-05,\n",
            "        5.9290e-06, 4.5928e-06, 6.3098e-06, 3.0380e-05, 5.4685e-06, 5.3049e-06,\n",
            "        2.0619e-05, 5.4661e-06, 1.6751e-05, 1.3104e-05, 1.3232e-05, 1.0635e-05,\n",
            "        5.5512e-06, 1.1407e-05, 6.6063e-06, 2.1044e-05, 1.5491e-05, 4.4268e-06,\n",
            "        9.9662e-06, 6.9458e-06, 4.6751e-06, 3.9220e-05, 1.7534e-05, 6.5392e-06,\n",
            "        8.6680e-06, 9.6200e-06, 1.5569e-05, 8.6376e-06, 8.1239e-06, 1.8175e-05,\n",
            "        9.4550e-06, 1.6651e-05, 7.7737e-06, 4.8611e-06, 2.3389e-05, 8.8611e-06,\n",
            "        4.4782e-06, 1.3644e-05, 1.3222e-05, 4.9828e-06, 1.7191e-05, 9.4911e-06,\n",
            "        1.1751e-05, 2.2700e-05, 5.2541e-06, 1.0106e-05, 7.7707e-06, 1.8314e-05,\n",
            "        1.2912e-05, 2.4455e-06, 1.2197e-05, 8.0458e-06, 8.6798e-06, 7.9601e-06,\n",
            "        2.6196e-05, 1.7309e-05, 1.7191e-05, 8.4137e-06, 2.8214e-05, 1.5740e-05,\n",
            "        8.0278e-06, 8.1405e-06, 4.9102e-06, 2.9901e-06, 4.1304e-06, 8.5390e-06,\n",
            "        4.2947e-06, 4.8169e-06, 2.2249e-05, 1.2049e-05, 1.3692e-05, 5.2720e-06,\n",
            "        3.7040e-06, 1.1772e-05, 2.1096e-05, 3.9374e-06, 1.1655e-05, 9.2530e-06,\n",
            "        1.4636e-05, 1.8359e-05, 4.8293e-05, 2.8382e-05, 7.2083e-06, 7.3647e-06,\n",
            "        6.1593e-06, 6.0093e-06, 1.9040e-06, 4.5960e-06, 1.0193e-05, 1.7071e-05,\n",
            "        1.4938e-06, 7.5879e-06, 1.9243e-05, 5.6053e-06, 1.0311e-05, 2.4911e-05,\n",
            "        1.7135e-05, 5.4006e-06, 9.7336e-06, 1.7467e-05, 2.4434e-05, 9.2428e-06,\n",
            "        4.6379e-06, 1.2984e-05, 8.7329e-06, 2.0320e-05, 3.6027e-06, 4.2345e-06,\n",
            "        7.5189e-06, 1.2643e-05, 8.6200e-06, 1.3580e-05, 3.5300e-06, 1.1285e-05,\n",
            "        1.1375e-05, 1.7542e-05, 3.8594e-06, 8.5587e-06, 1.1709e-05, 1.2391e-05,\n",
            "        1.1224e-05, 1.7704e-05, 2.5094e-05, 9.7950e-06, 9.7225e-06, 7.2460e-06,\n",
            "        1.2393e-05, 1.0861e-05, 1.0610e-05, 1.1686e-05, 9.2755e-06, 1.7790e-05,\n",
            "        7.5296e-06, 8.7696e-06, 1.8801e-05, 1.2651e-05, 3.7338e-06, 3.7662e-06,\n",
            "        1.1544e-05, 1.0203e-05, 6.7288e-06, 7.3763e-06, 7.9979e-06, 1.6323e-05,\n",
            "        3.4719e-06, 5.2967e-06, 7.5852e-06, 4.8362e-06, 9.3468e-06, 5.8357e-06,\n",
            "        4.5026e-06, 5.9671e-06, 1.6529e-05, 1.5520e-05, 8.3177e-06, 2.7577e-05,\n",
            "        1.0295e-05, 8.7998e-06, 4.4916e-06, 1.2021e-05, 8.2494e-06, 5.6929e-06,\n",
            "        1.3343e-05, 3.1032e-06, 9.1275e-06, 1.5153e-05, 5.9548e-06, 1.9831e-06,\n",
            "        5.0431e-06, 2.1046e-05, 1.2295e-05, 4.6836e-05, 2.5742e-06, 1.4947e-05,\n",
            "        1.2011e-05, 3.1176e-05, 1.2157e-05, 1.4320e-05, 5.9078e-06, 1.6386e-05,\n",
            "        8.7504e-06, 1.6400e-05, 4.7738e-06, 1.4426e-05, 7.1970e-06, 1.3710e-05,\n",
            "        1.1296e-05, 1.2534e-05, 4.1543e-06, 2.1438e-05, 2.2943e-05, 1.1142e-05,\n",
            "        5.3989e-06, 2.1164e-05, 2.5419e-05, 1.0653e-05, 1.3250e-05, 1.1169e-05,\n",
            "        3.5189e-05, 9.5557e-06, 8.9786e-06, 2.2534e-05, 8.3516e-06, 9.9474e-06,\n",
            "        1.6591e-05, 5.9624e-06, 8.9323e-06, 6.3613e-06, 2.4782e-05, 3.3695e-06,\n",
            "        5.0160e-06, 1.3439e-05, 8.5349e-06, 2.8096e-06, 2.1539e-05, 1.2433e-05,\n",
            "        1.2750e-05, 4.8852e-06, 5.5822e-06, 2.2149e-05, 6.0894e-06, 1.4088e-05,\n",
            "        1.2190e-05, 2.5375e-06, 1.1027e-05, 1.7875e-05, 1.2021e-05, 7.4029e-06,\n",
            "        4.5953e-06, 7.6723e-06, 1.2939e-05, 1.1697e-05, 3.2038e-05, 5.0765e-06,\n",
            "        1.5411e-05, 8.2783e-06, 1.3512e-05, 7.6788e-06, 3.1054e-06, 1.3362e-05,\n",
            "        7.5042e-06, 1.5234e-05, 8.4756e-06, 2.0000e-05, 4.7488e-06, 1.4395e-05,\n",
            "        6.0894e-06, 1.3753e-05, 1.0306e-05, 1.5807e-06, 1.6787e-05, 5.6225e-06,\n",
            "        4.9213e-06, 1.5602e-05, 9.6631e-06, 3.6706e-05, 5.1772e-06, 1.1694e-05,\n",
            "        9.2335e-06, 2.0724e-05, 6.2491e-06, 8.0400e-06, 2.1213e-05, 5.6154e-06,\n",
            "        8.6135e-06, 2.7734e-05, 9.6792e-06, 2.0804e-05, 7.9327e-06, 5.7291e-06,\n",
            "        1.8135e-05, 6.0228e-06, 1.8021e-05, 5.6793e-06, 9.1452e-06, 5.6993e-06,\n",
            "        7.4044e-06, 7.3962e-06, 3.4283e-05, 7.9445e-06, 7.4288e-06, 2.8307e-05,\n",
            "        6.5312e-06, 4.3287e-06, 3.1210e-06, 1.5932e-05, 4.8230e-06, 6.7101e-06,\n",
            "        2.4830e-05, 4.9868e-06, 9.0385e-06, 3.6603e-05, 2.2168e-05, 2.5989e-05,\n",
            "        1.1156e-05, 8.8565e-06, 8.3617e-06, 7.3572e-06, 3.6663e-06, 4.6856e-06,\n",
            "        5.6103e-06, 1.9510e-06, 2.7708e-05, 7.8290e-06, 8.8298e-06, 1.4316e-05,\n",
            "        4.8442e-06, 7.6169e-06, 5.8545e-06, 7.7067e-06, 4.8231e-06, 3.9000e-06,\n",
            "        3.8571e-06, 1.4325e-05, 9.5405e-06, 1.1093e-05, 1.7734e-05, 7.7454e-06,\n",
            "        3.8453e-06, 6.6401e-06, 7.4644e-06, 1.2832e-05, 3.7216e-05, 1.7138e-05,\n",
            "        2.2304e-06, 5.9889e-06, 8.1243e-06, 8.5355e-06, 5.3404e-06, 7.6622e-06,\n",
            "        9.8793e-06, 4.4684e-06, 2.0789e-05, 2.2317e-05, 1.5435e-05, 1.6988e-05,\n",
            "        2.1095e-05, 5.2984e-06, 1.0738e-05, 1.2679e-05, 5.5477e-06, 6.1147e-06,\n",
            "        5.1540e-06, 5.5755e-06, 1.4797e-05, 9.7720e-06, 1.0908e-05, 6.2006e-06,\n",
            "        1.5935e-05, 7.9785e-06, 1.4448e-05, 2.0945e-05, 7.2173e-06, 2.1884e-05,\n",
            "        6.4500e-06, 6.2693e-06, 1.7298e-05, 5.2271e-06, 3.7784e-05, 8.1591e-06,\n",
            "        1.0793e-05, 4.7636e-06, 1.0490e-05, 5.1513e-06, 5.6548e-06, 5.4031e-06,\n",
            "        1.1052e-05, 1.8588e-05, 4.3836e-06, 1.5031e-05, 1.4982e-06, 1.5415e-05,\n",
            "        1.0134e-05, 6.7066e-06, 2.7457e-05, 8.9320e-06, 2.9356e-06, 1.8542e-05,\n",
            "        9.4172e-06, 1.5994e-05, 4.8206e-06, 1.6353e-05, 5.9139e-06, 3.3485e-06,\n",
            "        1.8504e-05, 4.9792e-06, 1.1395e-05, 7.7303e-06, 5.5483e-06, 2.3265e-05,\n",
            "        1.1607e-05, 9.4658e-06, 5.4706e-06, 1.5898e-05, 6.7754e-06, 8.6865e-06,\n",
            "        9.0352e-06, 2.2315e-05, 1.7639e-05, 1.9297e-05, 2.3281e-05, 5.8613e-06,\n",
            "        7.4088e-06, 1.0671e-05, 1.1030e-05, 6.1868e-06, 2.4032e-05, 1.1016e-05,\n",
            "        5.3948e-06, 1.8071e-05, 1.4266e-05, 1.3144e-05, 9.7758e-06, 7.2863e-06,\n",
            "        8.1684e-06, 3.4069e-05, 4.6190e-06, 7.0314e-06, 6.3990e-06, 9.8792e-06,\n",
            "        9.7650e-06, 5.0308e-06, 3.6419e-06, 1.8593e-05, 7.3829e-06, 1.0752e-05,\n",
            "        5.2931e-06, 6.8164e-06, 3.9991e-06, 2.4146e-05, 5.3094e-06, 9.8167e-06,\n",
            "        2.0210e-05, 1.0082e-05, 2.3875e-05, 7.9648e-06, 1.2419e-05, 7.4439e-06,\n",
            "        3.1766e-05, 4.7788e-06, 6.2402e-06, 4.7183e-06, 1.6366e-05, 1.4713e-06,\n",
            "        9.7675e-06, 2.8266e-05, 7.7789e-06, 1.2579e-05, 1.0845e-05, 4.0031e-06,\n",
            "        1.5446e-05, 6.7867e-06, 1.3363e-05, 1.4457e-05, 2.1120e-05, 1.7505e-05,\n",
            "        7.7099e-06, 2.2092e-05, 6.8683e-06, 5.3284e-06, 5.0632e-06, 1.0462e-05,\n",
            "        3.9887e-06, 4.9876e-06, 1.1779e-05, 5.7021e-06, 1.0302e-05, 1.1935e-05,\n",
            "        5.4843e-06, 2.6640e-05, 1.8425e-05, 2.7236e-05, 5.4855e-06, 1.2693e-05,\n",
            "        5.3722e-06, 1.1681e-05, 4.2911e-06, 1.0616e-05, 9.2142e-06, 1.2017e-05,\n",
            "        1.4319e-05, 2.4870e-06, 5.6046e-06, 1.0798e-05, 1.1575e-05, 9.7202e-06,\n",
            "        5.0154e-06, 2.8636e-05, 2.8384e-06, 8.2070e-06, 4.3387e-06, 3.9735e-06,\n",
            "        2.8634e-05, 1.1418e-05, 1.3200e-05, 9.7881e-06, 1.3968e-05, 1.2502e-05,\n",
            "        5.0309e-06, 5.1926e-06, 2.1375e-05, 8.3235e-06, 1.6857e-05, 5.8588e-06,\n",
            "        2.2508e-05, 1.0443e-05, 1.5877e-06, 1.0042e-05, 1.3065e-05, 1.5624e-05,\n",
            "        2.9693e-05, 3.8264e-06, 3.8927e-05, 7.4383e-06, 9.3746e-06, 9.5093e-06,\n",
            "        1.0710e-05, 7.1125e-06, 1.8638e-05, 5.9313e-06, 7.5649e-06, 8.3763e-06,\n",
            "        1.8252e-06, 1.3331e-05, 2.4829e-06, 9.6245e-06, 6.1010e-06, 3.1921e-05,\n",
            "        1.9212e-05, 1.5931e-05, 2.1039e-05, 2.0574e-05, 2.7303e-06, 3.4819e-06,\n",
            "        3.2269e-06, 1.5025e-05, 5.3107e-06, 6.1077e-06, 3.0787e-06, 9.2317e-06,\n",
            "        4.4735e-06, 1.4040e-05, 8.4276e-06, 7.4903e-06, 2.2037e-05, 2.1973e-05,\n",
            "        1.8366e-05, 2.7534e-05, 7.7344e-06, 2.2322e-05, 2.3034e-05, 1.2147e-05],\n",
            "       device='cuda:0')}, 10: {'step': tensor(9380.), 'exp_avg': tensor([[ 1.0649e-04,  9.7984e-05, -3.3909e-05,  ..., -1.0395e-04,\n",
            "          9.3999e-05, -2.7095e-04],\n",
            "        [ 5.4132e-05, -2.0210e-05, -1.1632e-04,  ...,  1.5539e-05,\n",
            "          5.1916e-05, -2.7696e-05],\n",
            "        [-1.9140e-04,  5.5128e-05,  4.4245e-04,  ...,  2.0703e-04,\n",
            "         -1.9634e-04, -1.8477e-04],\n",
            "        ...,\n",
            "        [-5.3819e-05, -8.7175e-05, -7.0585e-05,  ...,  7.0814e-05,\n",
            "         -4.8649e-05,  1.6350e-04],\n",
            "        [ 1.2938e-04,  1.2632e-06, -1.3358e-04,  ..., -2.3391e-05,\n",
            "          2.1724e-04,  2.1895e-05],\n",
            "        [ 9.8488e-05,  4.1873e-05, -2.5197e-04,  ...,  1.1055e-06,\n",
            "          8.7897e-05, -9.2357e-05]], device='cuda:0'), 'exp_avg_sq': tensor([[3.8248e-06, 4.8867e-07, 8.5193e-07,  ..., 2.3811e-06, 4.5485e-06,\n",
            "         8.3535e-07],\n",
            "        [5.8553e-06, 7.2079e-07, 9.5373e-07,  ..., 4.0149e-06, 7.3809e-06,\n",
            "         1.1393e-06],\n",
            "        [3.0921e-06, 3.7274e-07, 1.1586e-06,  ..., 2.4583e-06, 4.4370e-06,\n",
            "         6.7334e-07],\n",
            "        ...,\n",
            "        [7.9413e-06, 2.0728e-06, 1.3538e-06,  ..., 5.1839e-06, 9.7546e-06,\n",
            "         2.0908e-06],\n",
            "        [3.2168e-06, 8.8073e-07, 9.6541e-07,  ..., 2.0429e-06, 4.4854e-06,\n",
            "         1.0318e-06],\n",
            "        [5.0413e-06, 8.6668e-07, 1.3136e-06,  ..., 4.0154e-06, 6.8956e-06,\n",
            "         1.2541e-06]], device='cuda:0')}, 11: {'step': tensor(9380.), 'exp_avg': tensor([-4.3307e-04, -1.0359e-04, -4.6113e-04,  5.4440e-04, -8.4979e-06,\n",
            "         9.8908e-05,  2.8505e-06,  1.4541e-04,  1.5409e-06,  5.9286e-04,\n",
            "         5.6520e-04,  1.8103e-04, -1.0706e-03,  7.1351e-05,  5.9818e-05,\n",
            "         6.0365e-04, -4.6283e-04,  2.2730e-04, -2.8266e-04,  2.3181e-04,\n",
            "         2.3758e-05, -4.2556e-04, -1.0694e-04, -5.4288e-04,  9.1848e-05,\n",
            "         2.0835e-04, -3.2520e-04, -5.0376e-05,  2.8611e-04,  4.2553e-04,\n",
            "        -4.9992e-04,  2.4037e-03, -1.0434e-03,  1.8845e-04,  2.7163e-04,\n",
            "         5.5814e-04, -1.4031e-04,  5.9712e-04, -4.4643e-06,  6.7730e-05,\n",
            "         2.1230e-04, -3.6219e-04, -2.8079e-04,  1.7061e-04,  2.3128e-04,\n",
            "         2.8422e-04, -3.7954e-04,  1.0790e-04,  3.1063e-04, -2.3692e-04,\n",
            "         1.0130e-03, -2.5520e-05,  9.7425e-05, -2.7020e-04,  4.6610e-05,\n",
            "         2.5241e-05,  4.6812e-05, -2.8321e-04,  3.8597e-04, -1.0682e-04,\n",
            "         5.0329e-04, -6.2638e-04,  5.5750e-04, -1.1018e-03, -1.4823e-04,\n",
            "        -1.7819e-04,  1.0315e-04, -2.7099e-04, -4.7302e-04,  1.0493e-04,\n",
            "        -3.3780e-05, -9.1483e-04, -2.7490e-04, -5.0130e-04,  1.9672e-07,\n",
            "         1.1390e-04, -2.6835e-04,  6.7763e-04,  8.3517e-04,  2.1873e-04,\n",
            "        -4.4882e-04,  6.7008e-05,  2.2508e-03, -1.5295e-04, -3.4312e-05,\n",
            "        -2.4898e-04,  4.3326e-04, -3.2873e-04,  5.0615e-04,  7.9285e-05,\n",
            "         4.6097e-04,  5.4893e-05, -1.1356e-04, -3.3399e-04,  1.4264e-05,\n",
            "         8.0494e-05, -2.9196e-04,  4.5750e-04,  4.0558e-04, -5.7704e-04,\n",
            "        -4.8230e-04, -1.9126e-04, -9.7944e-04,  5.6814e-04,  2.2404e-03,\n",
            "        -3.3734e-04,  5.3259e-06, -7.0469e-04,  4.7806e-04,  3.7236e-04,\n",
            "         2.0032e-04, -2.3223e-05,  4.9959e-05, -8.3260e-04, -2.8761e-04,\n",
            "        -2.0146e-04,  2.3630e-04,  2.0241e-04, -2.3360e-04,  7.2309e-04],\n",
            "       device='cuda:0'), 'exp_avg_sq': tensor([1.9554e-06, 1.7621e-06, 2.5359e-06, 3.1563e-06, 1.3149e-06, 2.7238e-06,\n",
            "        1.3699e-06, 1.0703e-06, 1.6560e-06, 2.0242e-06, 2.5657e-06, 1.0559e-05,\n",
            "        3.1417e-05, 1.2467e-06, 1.5081e-06, 3.0156e-06, 3.1125e-06, 7.5225e-07,\n",
            "        2.4350e-06, 1.5489e-06, 9.2801e-07, 1.0020e-06, 3.3953e-06, 1.2254e-06,\n",
            "        1.6119e-06, 1.3688e-06, 1.0420e-06, 1.1550e-06, 1.5984e-06, 2.0387e-06,\n",
            "        2.6017e-06, 4.3727e-05, 7.2895e-05, 1.2821e-06, 1.1458e-06, 2.3699e-06,\n",
            "        1.2902e-06, 9.7273e-06, 1.5549e-06, 9.4960e-07, 1.0620e-06, 1.8650e-06,\n",
            "        1.4550e-06, 1.0103e-06, 1.8645e-06, 2.0292e-06, 3.0696e-06, 9.8215e-07,\n",
            "        1.5325e-06, 1.5979e-06, 2.4395e-05, 1.4630e-06, 8.9134e-07, 2.1408e-06,\n",
            "        9.5044e-07, 1.0707e-06, 1.8828e-06, 8.9116e-06, 2.1603e-06, 1.6676e-06,\n",
            "        2.2801e-06, 1.5403e-06, 1.5899e-06, 1.0663e-05, 1.1489e-06, 1.1158e-06,\n",
            "        1.1770e-06, 2.9255e-06, 1.8054e-06, 1.1152e-06, 8.7513e-07, 3.5644e-06,\n",
            "        8.2878e-07, 2.3815e-06, 1.4233e-06, 2.1418e-06, 1.5417e-06, 1.0950e-06,\n",
            "        2.0700e-06, 1.2480e-06, 3.7612e-06, 2.2956e-06, 7.8188e-05, 2.2623e-06,\n",
            "        2.1482e-06, 2.4283e-06, 1.1884e-06, 1.6678e-06, 1.7019e-06, 6.2775e-07,\n",
            "        2.1797e-06, 1.9332e-06, 6.1297e-05, 1.9025e-06, 3.1447e-06, 1.7705e-06,\n",
            "        1.7289e-06, 2.6578e-06, 1.6751e-06, 2.1565e-06, 2.1956e-06, 2.5895e-06,\n",
            "        1.4453e-06, 1.1421e-06, 2.4713e-05, 1.4916e-06, 2.7148e-06, 4.1930e-05,\n",
            "        1.0816e-06, 1.2166e-06, 1.7336e-06, 6.1936e-07, 1.7151e-06, 3.4573e-06,\n",
            "        2.0767e-06, 1.1293e-06, 3.5727e-06, 2.4919e-06, 2.9652e-06, 3.8152e-06],\n",
            "       device='cuda:0')}, 12: {'step': tensor(9380.), 'exp_avg': tensor([[ 2.7277e-03,  3.1406e-03, -4.5741e-04,  ...,  5.0588e-04,\n",
            "         -2.8177e-03,  6.7397e-03],\n",
            "        [ 2.8825e-03,  3.6885e-04, -1.6546e-03,  ...,  1.0850e-03,\n",
            "         -1.1841e-03,  5.6762e-03],\n",
            "        [-2.5114e-03,  1.0604e-03,  3.0682e-03,  ..., -8.7539e-04,\n",
            "         -2.3917e-03,  2.3539e-03],\n",
            "        ...,\n",
            "        [-2.0586e-03,  1.0167e-03, -8.4078e-03,  ...,  2.6442e-03,\n",
            "          7.8546e-06,  7.5607e-04],\n",
            "        [ 1.4665e-04,  6.8217e-04,  3.1346e-03,  ..., -9.8160e-04,\n",
            "          2.8277e-03, -4.5386e-03],\n",
            "        [-4.0596e-04, -3.4986e-04,  3.2594e-03,  ...,  8.0593e-04,\n",
            "          3.9509e-04, -3.4259e-03]], device='cuda:0'), 'exp_avg_sq': tensor([[4.4528e-04, 3.1189e-04, 6.6134e-04,  ..., 4.8275e-04, 6.1002e-04,\n",
            "         5.1772e-04],\n",
            "        [1.7129e-04, 7.7867e-05, 1.7512e-04,  ..., 1.1182e-04, 9.9540e-05,\n",
            "         8.9705e-05],\n",
            "        [5.4758e-04, 4.0261e-04, 9.2044e-04,  ..., 1.0062e-03, 5.3064e-04,\n",
            "         5.0834e-04],\n",
            "        ...,\n",
            "        [3.3087e-04, 2.7578e-04, 4.0162e-04,  ..., 6.0748e-04, 4.1408e-04,\n",
            "         3.5452e-04],\n",
            "        [1.6550e-04, 4.3686e-04, 6.2389e-04,  ..., 2.8076e-04, 3.3578e-04,\n",
            "         3.6625e-04],\n",
            "        [3.4323e-04, 2.0640e-04, 3.9020e-04,  ..., 7.1687e-04, 3.9047e-04,\n",
            "         3.6282e-04]], device='cuda:0')}, 13: {'step': tensor(9380.), 'exp_avg': tensor([-0.0044, -0.0017,  0.0090,  0.0049, -0.0022, -0.0041, -0.0053,  0.0050,\n",
            "        -0.0008, -0.0004], device='cuda:0'), 'exp_avg_sq': tensor([6.8529e-04, 6.8416e-05, 7.7582e-04, 4.0479e-04, 8.3207e-04, 1.0844e-04,\n",
            "        1.1886e-03, 2.0927e-04, 9.8009e-05, 1.6272e-04], device='cuda:0')}}\n",
            "=====\n",
            "param_groups \t [{'lr': 0.01, 'betas': (0.9, 0.999), 'eps': 1e-08, 'weight_decay': 0, 'amsgrad': False, 'maximize': False, 'foreach': None, 'capturable': False, 'differentiable': False, 'fused': False, 'params': [0, 1, 2, 3, 4, 5, 6, 7, 8, 9, 10, 11, 12, 13]}]\n",
            "=====\n"
          ]
        }
      ]
    },
    {
      "cell_type": "markdown",
      "source": [
        "# Сохранение весов из Google Colab Google Disk\n",
        "\n",
        "Подробно правила указаны [здесь](https://colab.research.google.com/drive/1CN7JxLA_Qk1Clc4CM75rSAqIlUKIF8xZ#scrollTo=0bLRwiCEEkms)\n",
        "\n"
      ],
      "metadata": {
        "id": "XXXmyFTM57x7"
      }
    },
    {
      "cell_type": "code",
      "source": [
        "model_save_name = 'model'\n",
        "PATH = F'/content/drive/MyDrive/model/{model_save_name}'\n"
      ],
      "metadata": {
        "id": "f7aTCs5r2Eam"
      },
      "execution_count": null,
      "outputs": []
    },
    {
      "cell_type": "code",
      "source": [
        "torch.save({\n",
        "            'epoch': 6,\n",
        "            'model_state_dict': model.state_dict(),\n",
        "            'optimizer_state_dict': optimizer.state_dict(),\n",
        "            }, PATH)"
      ],
      "metadata": {
        "id": "yp186DowycMA"
      },
      "execution_count": null,
      "outputs": []
    }
  ]
}